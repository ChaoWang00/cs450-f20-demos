{
 "cells": [
  {
   "cell_type": "markdown",
   "metadata": {},
   "source": [
    "# Shooting Method"
   ]
  },
  {
   "cell_type": "code",
   "execution_count": null,
   "metadata": {},
   "outputs": [],
   "source": [
    "import numpy as np\n",
    "import matplotlib.pyplot as pt"
   ]
  },
  {
   "cell_type": "code",
   "execution_count": null,
   "metadata": {},
   "outputs": [],
   "source": [
    "def rk4_step(y, t, h, f):\n",
    "    k1 = f(t, y)\n",
    "    k2 = f(t+h/2, y + h/2*k1)\n",
    "    k3 = f(t+h/2, y + h/2*k2)\n",
    "    k4 = f(t+h, y + h*k3)\n",
    "    return y + h/6*(k1 + 2*k2 + 2*k3 + k4)"
   ]
  },
  {
   "cell_type": "markdown",
   "metadata": {},
   "source": [
    "Want to solve:\n",
    "\n",
    "$$w''(t)=\\frac 32w^2$$\n",
    "\n",
    "with $w(0)=4$ and $w(1)=1$. (Example due to Stoer and Bulirsch)"
   ]
  },
  {
   "cell_type": "code",
   "execution_count": null,
   "metadata": {},
   "outputs": [],
   "source": [
    "def f(t, y):\n",
    "    w, w_prime = y\n",
    "    return np.array([w_prime, 3/2*w**2])"
   ]
  },
  {
   "cell_type": "markdown",
   "metadata": {},
   "source": [
    "The following function carries out the shooting method for a given $w'(0)$ using RK4:"
   ]
  },
  {
   "cell_type": "code",
   "execution_count": null,
   "metadata": {},
   "outputs": [],
   "source": [
    "def shoot(w_prime):\n",
    "    times = [0]\n",
    "    y_values = [np.array([4, w_prime])]\n",
    "    \n",
    "    h = 1/2**7\n",
    "    t_end = 1\n",
    "    \n",
    "    while times[-1] < t_end:\n",
    "        y_values.append(rk4_step(y_values[-1], times[-1], h, f))\n",
    "        times.append(times[-1]+h)\n",
    "    \n",
    "    y_values = np.array(y_values)\n",
    "    \n",
    "    # actually floating-point-equal due to power-of-2 h\n",
    "    assert times[-1] == t_end\n",
    "    \n",
    "    print(\"w'(0) = %g  ->  w(1)= %.5g\" % (w_prime, y_values[-1,0]))\n",
    "\n",
    "    pt.plot(times, y_values[:, 0], label=\"$w'(0)=%.2g$\" % w_prime)"
   ]
  },
  {
   "cell_type": "markdown",
   "metadata": {},
   "source": [
    "Call `shoot` to see if you can solve the boundary value problem.\n",
    "\n",
    "Start with $w'(0)=0$.\n",
    "\n",
    "(You may call `pt.legend` to take advantage of automatic labeling.)"
   ]
  },
  {
   "cell_type": "code",
   "execution_count": null,
   "metadata": {},
   "outputs": [],
   "source": [
    "#clear\n",
    "\n",
    "shoot(0)\n",
    "shoot(-5)\n",
    "shoot(-7)\n",
    "\n",
    "pt.grid()\n",
    "pt.legend(loc=\"best\")"
   ]
  },
  {
   "cell_type": "markdown",
   "metadata": {},
   "source": [
    "See if you can find another solution to the boundary value problem by starting with $w'(0)=-30$.\n",
    "\n",
    "(You may call `pt.legend` to take advantage of automatic labeling.)"
   ]
  },
  {
   "cell_type": "code",
   "execution_count": null,
   "metadata": {},
   "outputs": [],
   "source": [
    "#clear\n",
    "\n",
    "shoot(-30)\n",
    "shoot(-33)\n",
    "shoot(-36)\n",
    "\n",
    "pt.grid()\n",
    "pt.legend(loc=\"best\")"
   ]
  },
  {
   "cell_type": "code",
   "execution_count": null,
   "metadata": {},
   "outputs": [],
   "source": []
  }
 ],
 "metadata": {
  "kernelspec": {
   "display_name": "Python 3",
   "language": "python",
   "name": "python3"
  },
  "language_info": {
   "codemirror_mode": {
    "name": "ipython",
    "version": 3
   },
   "file_extension": ".py",
   "mimetype": "text/x-python",
   "name": "python",
   "nbconvert_exporter": "python",
   "pygments_lexer": "ipython3",
   "version": "3.7.5"
  }
 },
 "nbformat": 4,
 "nbformat_minor": 1
}
