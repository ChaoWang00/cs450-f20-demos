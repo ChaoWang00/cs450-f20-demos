{
 "cells": [
  {
   "cell_type": "markdown",
   "metadata": {},
   "source": [
    "# Proportions of the Golden Section"
   ]
  },
  {
   "cell_type": "code",
   "execution_count": 20,
   "metadata": {},
   "outputs": [],
   "source": [
    "import matplotlib.pyplot as pt\n",
    "from math import sqrt"
   ]
  },
  {
   "cell_type": "code",
   "execution_count": 33,
   "metadata": {},
   "outputs": [
    {
     "data": {
      "text/plain": [
       "[<matplotlib.lines.Line2D at 0x112a9bc90>]"
      ]
     },
     "execution_count": 33,
     "metadata": {},
     "output_type": "execute_result"
    },
    {
     "data": {
      "image/png": "[encoded data removed]",
      "text/plain": [
       "<Figure size 432x288 with 1 Axes>"
      ]
     },
     "metadata": {},
     "output_type": "display_data"
    }
   ],
   "source": [
    "a = 0\n",
    "b = 1\n",
    "\n",
    "m1 = a + (1-(sqrt(5)-1)/2) * (b-a)\n",
    "m2 = a + (sqrt(5)-1)/2 * (b-a)\n",
    "\n",
    "pt.xlim([a-0.5, b+0.5])\n",
    "pt.grid()\n",
    "pt.plot([a,b], [0,0], \"ob\")\n",
    "pt.plot([m1, m2], [0,0], \"or\")\n",
    "\n",
    "a = m1\n",
    "m1 = a + (1-(sqrt(5)-1)/2) * (b-a)\n",
    "m2 = a + (sqrt(5)-1)/2 * (b-a)\n",
    "pt.plot([m1, m2], [0,0], \"ko\", marker='o', alpha=.25, ms=15)"
   ]
  },
  {
   "cell_type": "code",
   "execution_count": null,
   "metadata": {},
   "outputs": [],
   "source": []
  }
 ],
 "metadata": {
  "kernelspec": {
   "display_name": "Python 3",
   "language": "python",
   "name": "python3"
  },
  "language_info": {
   "codemirror_mode": {
    "name": "ipython",
    "version": 3
   },
   "file_extension": ".py",
   "mimetype": "text/x-python",
   "name": "python",
   "nbconvert_exporter": "python",
   "pygments_lexer": "ipython3",
   "version": "3.7.4"
  }
 },
 "nbformat": 4,
 "nbformat_minor": 1
}
