{
 "cells": [
  {
   "cell_type": "code",
   "execution_count": 63,
   "metadata": {},
   "outputs": [],
   "source": [
    "import numpy as np\n",
    "import matplotlib.pyplot as plt\n",
    "\n",
    "import seaborn as sns\n",
    "sns.set_context('talk')\n",
    "%matplotlib inline\n",
    "\n",
    "import scipy.optimize as sopt"
   ]
  },
  {
   "cell_type": "code",
   "execution_count": 65,
   "metadata": {},
   "outputs": [],
   "source": [
    "def f(x):\n",
    "    return 5*x[0]**2 + x[1]**2 + 4*x[0]*x[1] - 14*x[0] - 6*x[1] + 20\n",
    "\n",
    "def df(x):\n",
    "    s = np.zeros((2,))\n",
    "    s[0] = 10*x[0] + 4*x[1] - 14\n",
    "    s[1] = 2*x[1] + 4*x[0] - 6\n",
    "    return s\n",
    "xstar = np.array([1,1])"
   ]
  },
  {
   "cell_type": "code",
   "execution_count": 67,
   "metadata": {},
   "outputs": [],
   "source": [
    "x = np.array([0,10])\n",
    "\n",
    "err = [np.linalg.norm(x - xstar)]\n",
    "for k in range(25):\n",
    "\n",
    "    # gradient\n",
    "    s = -df(x)\n",
    "    \n",
    "    # search for the best distance\n",
    "    def f1d(alpha):\n",
    "        return f(x + alpha*s)\n",
    "    alpha_opt = sopt.golden(f1d)\n",
    "    \n",
    "    # take a step\n",
    "    x = x + alpha_opt * s\n",
    "    \n",
    "    err.append(np.linalg.norm(x - xstar))"
   ]
  },
  {
   "cell_type": "code",
   "execution_count": 68,
   "metadata": {},
   "outputs": [
    {
     "data": {
      "text/plain": [
       "[<matplotlib.lines.Line2D at 0x12137d950>]"
      ]
     },
     "execution_count": 68,
     "metadata": {},
     "output_type": "execute_result"
    },
    {
     "data": {
      "image/png": "[encoded data removed]",
      "text/plain": [
       "<Figure size 432x288 with 1 Axes>"
      ]
     },
     "metadata": {},
     "output_type": "display_data"
    }
   ],
   "source": [
    "plt.semilogy(err)"
   ]
  },
  {
   "cell_type": "code",
   "execution_count": null,
   "metadata": {},
   "outputs": [],
   "source": []
  }
 ],
 "metadata": {
  "kernelspec": {
   "display_name": "Python 3",
   "language": "python",
   "name": "python3"
  },
  "language_info": {
   "codemirror_mode": {
    "name": "ipython",
    "version": 3
   },
   "file_extension": ".py",
   "mimetype": "text/x-python",
   "name": "python",
   "nbconvert_exporter": "python",
   "pygments_lexer": "ipython3",
   "version": "3.7.4"
  }
 },
 "nbformat": 4,
 "nbformat_minor": 2
}
