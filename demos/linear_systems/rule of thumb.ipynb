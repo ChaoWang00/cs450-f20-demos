{
 "cells": [
  {
   "cell_type": "code",
   "execution_count": 36,
   "metadata": {},
   "outputs": [],
   "source": [
    "import numpy as np\n",
    "import matplotlib.pyplot as plt\n",
    "import numpy.linalg as la\n",
    "%matplotlib inline"
   ]
  },
  {
   "cell_type": "code",
   "execution_count": 40,
   "metadata": {},
   "outputs": [
    {
     "name": "stdout",
     "output_type": "stream",
     "text": [
      "            1.00e+01             2.22e-16\n",
      "            1.84e+01             4.44e-16\n",
      "            3.39e+01             0.00e+00\n",
      "            6.25e+01             0.00e+00\n",
      "            1.15e+02             1.11e-15\n",
      "            2.12e+02             6.22e-15\n",
      "            3.91e+02             4.00e-15\n",
      "            7.20e+02             3.65e-14\n",
      "            1.33e+03             0.00e+00\n",
      "            2.44e+03             1.70e-13\n",
      "            4.50e+03             0.00e+00\n",
      "            8.29e+03             1.98e-13\n",
      "            1.53e+04             3.97e-13\n",
      "            2.81e+04             0.00e+00\n",
      "            5.18e+04             0.00e+00\n",
      "            9.54e+04             4.82e-12\n",
      "            1.76e+05             2.04e-11\n",
      "            3.24e+05             7.13e-12\n",
      "            5.96e+05             4.41e-11\n",
      "            1.10e+06             0.00e+00\n",
      "            2.02e+06             1.11e-16\n",
      "            3.73e+06             2.22e-16\n",
      "            6.87e+06             2.77e-10\n",
      "            1.26e+07             0.00e+00\n",
      "            2.33e+07             1.50e-09\n",
      "            4.29e+07             1.12e-09\n",
      "            7.91e+07             3.58e-09\n",
      "            1.46e+08             6.64e-09\n",
      "            2.68e+08             6.72e-09\n",
      "            4.94e+08             5.62e-08\n",
      "            9.10e+08             0.00e+00\n",
      "            1.68e+09             0.00e+00\n",
      "            3.09e+09             3.95e-08\n",
      "            5.69e+09             1.27e-07\n",
      "            1.05e+10             8.52e-09\n",
      "            1.93e+10             1.38e-06\n",
      "            3.56e+10             8.34e-07\n",
      "            6.55e+10             4.29e-07\n",
      "            1.21e+11             3.15e-06\n",
      "            2.22e+11             2.07e-05\n",
      "            4.09e+11             1.68e-05\n",
      "            7.54e+11             1.40e-05\n",
      "            1.39e+12             3.48e-05\n",
      "            2.56e+12             0.00e+00\n",
      "            4.71e+12             1.27e-04\n",
      "            8.69e+12             0.00e+00\n",
      "            1.60e+13             1.96e-04\n",
      "            2.94e+13             1.37e-03\n",
      "            5.42e+13             6.77e-03\n",
      "            1.01e+14             0.00e+00\n"
     ]
    }
   ],
   "source": [
    "errs = []\n",
    "conds = []\n",
    "\n",
    "xstar = np.ones(2)\n",
    "for eps in np.logspace(-1,-14):\n",
    "    \n",
    "    A = np.array([[1, 0], [0, eps]])\n",
    "    V,_ = la.qr(np.random.randn(2,2))\n",
    "    A = V.T @ A @ V\n",
    "    b = A.dot(xstar)\n",
    "    x = np.linalg.solve(A, b)\n",
    "    diff = np.max(np.abs(x-xstar))\n",
    "    cond = np.linalg.cond(A)\n",
    "    errs.append(diff)\n",
    "    conds.append(cond)\n",
    "    print(\"{:20.2e} {:20.2e}\".format(cond, diff))"
   ]
  },
  {
   "cell_type": "code",
   "execution_count": 41,
   "metadata": {},
   "outputs": [
    {
     "data": {
      "text/plain": [
       "[<matplotlib.lines.Line2D at 0x11fead150>]"
      ]
     },
     "execution_count": 41,
     "metadata": {},
     "output_type": "execute_result"
    },
    {
     "data": {
      "image/png": "[encoded data removed]",
      "text/plain": [
       "<Figure size 432x288 with 1 Axes>"
      ]
     },
     "metadata": {},
     "output_type": "display_data"
    }
   ],
   "source": [
    "plt.loglog(conds, errs, 'o')"
   ]
  },
  {
   "cell_type": "code",
   "execution_count": 17,
   "metadata": {},
   "outputs": [
    {
     "data": {
      "text/plain": [
       "array([1., 1.])"
      ]
     },
     "execution_count": 17,
     "metadata": {},
     "output_type": "execute_result"
    }
   ],
   "source": [
    "xstar"
   ]
  },
  {
   "cell_type": "code",
   "execution_count": 18,
   "metadata": {},
   "outputs": [
    {
     "data": {
      "text/plain": [
       "array([2., 2.])"
      ]
     },
     "execution_count": 18,
     "metadata": {},
     "output_type": "execute_result"
    }
   ],
   "source": [
    "b"
   ]
  },
  {
   "cell_type": "code",
   "execution_count": null,
   "metadata": {},
   "outputs": [],
   "source": []
  }
 ],
 "metadata": {
  "kernelspec": {
   "display_name": "Python 3",
   "language": "python",
   "name": "python3"
  },
  "language_info": {
   "codemirror_mode": {
    "name": "ipython",
    "version": 3
   },
   "file_extension": ".py",
   "mimetype": "text/x-python",
   "name": "python",
   "nbconvert_exporter": "python",
   "pygments_lexer": "ipython3",
   "version": "3.7.4"
  }
 },
 "nbformat": 4,
 "nbformat_minor": 2
}
