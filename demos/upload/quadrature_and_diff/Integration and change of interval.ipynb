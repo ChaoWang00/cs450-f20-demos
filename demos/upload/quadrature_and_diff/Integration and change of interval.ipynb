{
  "cells": [
    {
      "cell_type": "code",
      "execution_count": 1,
      "metadata": {},
      "outputs": [],
      "source": [
        "import numpy as np\n",
        "import matplotlib.pyplot as plt\n",
        "%matplotlib inline\n",
        "\n",
        "import seaborn as sns\n",
        "sns.set_context('talk')"
      ]
    },
    {
      "cell_type": "code",
      "execution_count": 2,
      "metadata": {},
      "outputs": [],
      "source": [
        "def f(x):\n",
        "    return x**2 * np.sin(x)**3"
      ]
    },
    {
      "cell_type": "code",
      "execution_count": 4,
      "metadata": {},
      "outputs": [
        {
          "data": {
            "text/plain": [
              "<matplotlib.collections.PolyCollection at 0x120ebe690>"
            ]
          },
          "execution_count": 4,
          "metadata": {},
          "output_type": "execute_result"
        },
        {
          "data": {
            "image/png": "[encoded data removed]",
            "text/plain": [
              "<Figure size 432x288 with 1 Axes>"
            ]
          },
          "metadata": {},
          "output_type": "display_data"
        }
      ],
      "source": [
        "xx = np.linspace(0,6,100)\n",
        "plt.plot(xx, f(xx), 'b-', lw=4)\n",
        "\n",
        "xx = np.linspace(2,5,100)\n",
        "plt.fill_between(xx, f(xx), alpha=0.5)"
      ]
    },
    {
      "cell_type": "code",
      "execution_count": 5,
      "metadata": {},
      "outputs": [],
      "source": [
        "tn, wn = np.polynomial.legendre.leggauss(4)"
      ]
    },
    {
      "cell_type": "code",
      "execution_count": 8,
      "metadata": {},
      "outputs": [
        {
          "name": "stdout",
          "output_type": "stream",
          "text": [
            "-17.51200096241208\n"
          ]
        }
      ],
      "source": [
        "In = ((3/2) * f((3*tn + 7)/2) * wn).sum()\n",
        "print(In)"
      ]
    },
    {
      "cell_type": "code",
      "execution_count": 7,
      "metadata": {},
      "outputs": [
        {
          "data": {
            "text/plain": [
              "[<matplotlib.lines.Line2D at 0x121002cd0>]"
            ]
          },
          "execution_count": 7,
          "metadata": {},
          "output_type": "execute_result"
        },
        {
          "data": {
            "image/png": "[encoded data removed]",
            "text/plain": [
              "<Figure size 432x288 with 1 Axes>"
            ]
          },
          "metadata": {},
          "output_type": "display_data"
        }
      ],
      "source": [
        "plt.plot(tn, tn*0, 'o')"
      ]
    },
    {
      "cell_type": "code",
      "execution_count": 13,
      "metadata": {},
      "outputs": [],
      "source": [
        "n = 5\n",
        "\n",
        "def integrate(f, a, b, n):\n",
        "    tn, wn = np.polynomial.legendre.leggauss(n)\n",
        "    \n",
        "    g = (b-a)/2 * f((b-a)*(tn+1)/2 + a)\n",
        "    g *= wn\n",
        "    return g.sum()\n",
        "\n",
        "def testing(n):\n",
        "    def f(x):\n",
        "        # return 15*np.ones(len(x))\n",
        "        return 0*x + 15\n",
        "    \n",
        "    np.testing.assert_almost_equal(integrate(f, 8, 10, 1), 30)\n",
        "    \n",
        "testing(n)"
      ]
    },
    {
      "cell_type": "code",
      "execution_count": 16,
      "metadata": {},
      "outputs": [
        {
          "data": {
            "text/plain": [
              "-17.048069244372613"
            ]
          },
          "execution_count": 16,
          "metadata": {},
          "output_type": "execute_result"
        }
      ],
      "source": [
        "integrate(f, 2, 5, 3)"
      ]
    },
    {
      "cell_type": "code",
      "execution_count": 17,
      "metadata": {},
      "outputs": [
        {
          "name": "stdout",
          "output_type": "stream",
          "text": [
            "-1.586257918455428\n",
            "-22.60031677580767\n",
            "-17.048069244372613\n",
            "-17.51200096241208\n",
            "-17.524132475585546\n",
            "-17.519433258110812\n",
            "-17.519805913638084\n",
            "-17.519789162230694\n",
            "-17.519789671371857\n",
            "-17.519789660030604\n",
            "-17.519789660225037\n",
            "-17.519789660222383\n",
            "-17.51978966022241\n",
            "-17.519789660222415\n"
          ]
        }
      ],
      "source": [
        "for n in range(1,15):\n",
        "    In = integrate(f, 2, 5, n)\n",
        "    print(In)"
      ]
    },
    {
      "cell_type": "code",
      "execution_count": 18,
      "metadata": {},
      "outputs": [],
      "source": [
        "import scipy"
      ]
    },
    {
      "cell_type": "code",
      "execution_count": 20,
      "metadata": {},
      "outputs": [
        {
          "data": {
            "text/plain": [
              "(-17.519789660030593, 1.1341253269847584e-08)"
            ]
          },
          "execution_count": 20,
          "metadata": {},
          "output_type": "execute_result"
        }
      ],
      "source": [
        "scipy.integrate.quadrature(f, 2, 5)"
      ]
    },
    {
      "cell_type": "code",
      "execution_count": 21,
      "metadata": {},
      "outputs": [],
      "source": [
        "scipy.integrate?"
      ]
    },
    {
      "cell_type": "code",
      "execution_count": null,
      "metadata": {},
      "outputs": [],
      "source": []
    }
  ],
  "metadata": {
    "kernelspec": {
      "display_name": "Python 3",
      "language": "python",
      "name": "python3"
    },
    "language_info": {
      "codemirror_mode": {
        "name": "ipython",
        "version": 3
      },
      "file_extension": ".py",
      "mimetype": "text/x-python",
      "name": "python",
      "nbconvert_exporter": "python",
      "pygments_lexer": "ipython3",
      "version": "3.7.5"
    }
  },
  "nbformat": 4,
  "nbformat_minor": 2
}