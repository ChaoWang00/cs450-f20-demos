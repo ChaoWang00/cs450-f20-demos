{
  "cells": [
    {
      "cell_type": "code",
      "execution_count": 1,
      "metadata": {},
      "outputs": [],
      "source": [
        "import numpy as np\n",
        "import matplotlib.pyplot as plt\n",
        "%matplotlib inline"
      ]
    },
    {
      "cell_type": "code",
      "execution_count": 2,
      "metadata": {},
      "outputs": [],
      "source": [
        "def f(x):\n",
        "    return x - x**6"
      ]
    },
    {
      "cell_type": "code",
      "execution_count": 3,
      "metadata": {},
      "outputs": [
        {
          "data": {
            "text/plain": [
              "[<matplotlib.lines.Line2D at 0x117145950>]"
            ]
          },
          "execution_count": 3,
          "metadata": {},
          "output_type": "execute_result"
        },
        {
          "data": {
            "image/png": "[encoded data removed]",
            "text/plain": [
              "<Figure size 432x288 with 1 Axes>"
            ]
          },
          "metadata": {},
          "output_type": "display_data"
        }
      ],
      "source": [
        "x = np.linspace(0,1,100)\n",
        "plt.plot(x, f(x))"
      ]
    },
    {
      "cell_type": "code",
      "execution_count": 4,
      "metadata": {},
      "outputs": [
        {
          "name": "stdout",
          "output_type": "stream",
          "text": [
            "0.2761423448546198\n"
          ]
        }
      ],
      "source": [
        "z = np.sort(np.random.rand(10))\n",
        "z[0] = 0\n",
        "z[-1] = 1\n",
        "h = np.diff(z)\n",
        "Ih = np.inner(h, f(z[:-1]))\n",
        "print(Ih)"
      ]
    },
    {
      "cell_type": "code",
      "execution_count": 5,
      "metadata": {},
      "outputs": [
        {
          "data": {
            "text/plain": [
              "[<matplotlib.lines.Line2D at 0x11955fd10>]"
            ]
          },
          "execution_count": 5,
          "metadata": {},
          "output_type": "execute_result"
        },
        {
          "data": {
            "image/png": "[encoded data removed]",
            "text/plain": [
              "<Figure size 432x288 with 1 Axes>"
            ]
          },
          "metadata": {},
          "output_type": "display_data"
        }
      ],
      "source": [
        "plt.plot(x, f(x))\n",
        "plt.plot(z, 0*z, 'o', ms=12)"
      ]
    },
    {
      "cell_type": "code",
      "execution_count": 6,
      "metadata": {},
      "outputs": [
        {
          "name": "stdout",
          "output_type": "stream",
          "text": [
            "0.35714285714285715\n"
          ]
        }
      ],
      "source": [
        "I = 1/2 - 1/7\n",
        "print(I)"
      ]
    },
    {
      "cell_type": "code",
      "execution_count": 7,
      "metadata": {},
      "outputs": [
        {
          "name": "stdout",
          "output_type": "stream",
          "text": [
            "0.036914809234447676\n",
            "0.017447342888022854\n",
            "0.008463779255012405\n",
            "0.004166451306297336\n",
            "0.0020668369271824027\n",
            "0.0010293194594637178\n",
            "0.0005136348647691302\n",
            "0.0002565612090228986\n",
            "0.00012821654822608997\n",
            "6.409226001391488e-05\n",
            "3.204212648050264e-05\n",
            "1.60200623584017e-05\n",
            "8.009780958773138e-06\n",
            "4.0048279243420914e-06\n",
            "2.0023983232086984e-06\n",
            "1.00119525181519e-06\n",
            "5.00596649133378e-07\n",
            "2.5029807976251206e-07\n",
            "1.251489793463456e-07\n",
            "6.257447332513877e-08\n"
          ]
        }
      ],
      "source": [
        "for i in range(20):\n",
        "    znew = np.zeros(len(z)*2 - 1)\n",
        "    znew[0::2] = z\n",
        "    znew[1::2] = (z[:-1] + z[1:]) / 2\n",
        "    z = znew\n",
        "    h = np.diff(z)\n",
        "    Ih = np.inner(h, f(z[:-1]))\n",
        "    print(I - Ih)"
      ]
    },
    {
      "cell_type": "code",
      "execution_count": null,
      "metadata": {},
      "outputs": [],
      "source": [
        "len(z)"
      ]
    },
    {
      "cell_type": "code",
      "execution_count": null,
      "metadata": {},
      "outputs": [],
      "source": [
        "len(znew[2::2])"
      ]
    },
    {
      "cell_type": "code",
      "execution_count": null,
      "metadata": {},
      "outputs": [],
      "source": []
    }
  ],
  "metadata": {
    "kernelspec": {
      "display_name": "Python 3",
      "language": "python",
      "name": "python3"
    },
    "language_info": {
      "codemirror_mode": {
        "name": "ipython",
        "version": 3
      },
      "file_extension": ".py",
      "mimetype": "text/x-python",
      "name": "python",
      "nbconvert_exporter": "python",
      "pygments_lexer": "ipython3",
      "version": "3.7.5"
    }
  },
  "nbformat": 4,
  "nbformat_minor": 2
}