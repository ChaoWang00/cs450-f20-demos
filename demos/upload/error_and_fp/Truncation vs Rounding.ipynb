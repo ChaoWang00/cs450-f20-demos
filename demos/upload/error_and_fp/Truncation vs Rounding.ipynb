{
  "cells": [
    {
      "cell_type": "markdown",
      "metadata": {},
      "source": [
        "# Truncation Error vs Rounding Error"
      ]
    },
    {
      "cell_type": "markdown",
      "metadata": {},
      "source": [
        "In this notebook, we'll investigate two common sources of error: Truncation error and rounding error."
      ]
    },
    {
      "cell_type": "code",
      "execution_count": 1,
      "metadata": {},
      "outputs": [],
      "source": [
        "import numpy as np\n",
        "import matplotlib.pyplot as pt"
      ]
    },
    {
      "cell_type": "markdown",
      "metadata": {},
      "source": [
        "**Task:** Approximate a function (here: a parabola, by a line)"
      ]
    },
    {
      "cell_type": "code",
      "execution_count": 4,
      "metadata": {},
      "outputs": [
        {
          "data": {
            "text/plain": [
              "(-28.0, 2.2497704315886136)"
            ]
          },
          "execution_count": 4,
          "metadata": {},
          "output_type": "execute_result"
        },
        {
          "data": {
            "image/png": "[encoded data removed]",
            "text/plain": [
              "<Figure size 432x288 with 1 Axes>"
            ]
          },
          "metadata": {},
          "output_type": "display_data"
        }
      ],
      "source": [
        "center = -1\n",
        "width = 6\n",
        "\n",
        "def f(x):\n",
        "    return - x**2 + 3*x\n",
        "\n",
        "def df(x):\n",
        "    return -2*x + 3\n",
        "\n",
        "grid = np.linspace(center-width/2, center+width/2, 100)\n",
        "\n",
        "fx = f(grid)\n",
        "pt.plot(grid, fx)\n",
        "pt.plot(grid, f(center) + df(center) * (grid-center))\n",
        "\n",
        "pt.xlim([grid[0], grid[-1]])\n",
        "pt.ylim([np.min(fx), np.max(fx)])"
      ]
    },
    {
      "cell_type": "markdown",
      "metadata": {},
      "source": [
        "* What's the error we see?\n",
        "* What if we make `width` smaller?"
      ]
    },
    {
      "cell_type": "code",
      "execution_count": null,
      "metadata": {},
      "outputs": [],
      "source": []
    },
    {
      "cell_type": "code",
      "execution_count": null,
      "metadata": {},
      "outputs": [],
      "source": []
    }
  ],
  "metadata": {
    "kernelspec": {
      "display_name": "Python 3",
      "language": "python",
      "name": "python3"
    },
    "language_info": {
      "codemirror_mode": {
        "name": "ipython",
        "version": 3
      },
      "file_extension": ".py",
      "mimetype": "text/x-python",
      "name": "python",
      "nbconvert_exporter": "python",
      "pygments_lexer": "ipython3",
      "version": "3.7.3"
    }
  },
  "nbformat": 4,
  "nbformat_minor": 1
}