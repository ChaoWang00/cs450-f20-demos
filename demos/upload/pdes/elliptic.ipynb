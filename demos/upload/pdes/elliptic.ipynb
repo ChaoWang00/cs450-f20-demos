{
  "cells": [
    {
      "cell_type": "code",
      "execution_count": 3,
      "metadata": {},
      "outputs": [],
      "source": [
        "import scipy.sparse.linalg as la\n",
        "from mpl_toolkits.mplot3d import axes3d\n",
        "import matplotlib.pyplot as plt\n",
        "import time\n",
        "import numpy as  np\n",
        "from structured_matrix import diff2d, diff3d"
      ]
    },
    {
      "cell_type": "code",
      "execution_count": 28,
      "metadata": {},
      "outputs": [],
      "source": [
        "n = 200\n",
        "h = 1.0 / (n - 1)\n",
        "\n",
        "A = diff2d(n, n)"
      ]
    },
    {
      "cell_type": "code",
      "execution_count": 29,
      "metadata": {},
      "outputs": [
        {
          "data": {
            "text/plain": [
              "<matplotlib.lines.Line2D at 0x124e43990>"
            ]
          },
          "execution_count": 29,
          "metadata": {},
          "output_type": "execute_result"
        },
        {
          "data": {
            "image/png": "[encoded data removed]",
            "text/plain": [
              "<Figure size 432x288 with 1 Axes>"
            ]
          },
          "metadata": {},
          "output_type": "display_data"
        }
      ],
      "source": [
        "plt.spy(A, marker='s', ms=5)"
      ]
    },
    {
      "cell_type": "code",
      "execution_count": 31,
      "metadata": {},
      "outputs": [
        {
          "name": "stdout",
          "output_type": "stream",
          "text": [
            "time = 0.173884\n"
          ]
        }
      ],
      "source": [
        "# exact solution u = sin(pi x) * sin(pi y)\n",
        "X, Y = np.meshgrid(np.linspace(0, 1, n), np.linspace(0, 1, n))\n",
        "f = h**2 * 2 * np.pi**2 * np.sin(np.pi * X.ravel()) * np.sin(np.pi * Y.ravel())\n",
        "f =  0 *  f\n",
        "f[2500] = 1.0\n",
        "\n",
        "t = time.time()\n",
        "u = la.spsolve(A, f)\n",
        "t = time.time() - t\n",
        "print(\"time = %g\" % t)"
      ]
    },
    {
      "cell_type": "code",
      "execution_count": 33,
      "metadata": {},
      "outputs": [
        {
          "data": {
            "text/plain": [
              "(-0.05, 1.05, -0.05, 1.05)"
            ]
          },
          "execution_count": 33,
          "metadata": {},
          "output_type": "execute_result"
        },
        {
          "data": {
            "image/png": "[encoded data removed]",
            "text/plain": [
              "<Figure size 432x288 with 1 Axes>"
            ]
          },
          "metadata": {},
          "output_type": "display_data"
        }
      ],
      "source": [
        "err = np.sin(np.pi * X.ravel()) * np.sin(np.pi * Y.ravel()) - u\n",
        "fig = plt.figure()\n",
        "ax = fig.add_subplot(111, projection='3d')\n",
        "ax.plot_surface(X, Y, u.reshape(X.shape),\n",
        "                rstride=1, cstride=1, cmap=plt.cm.jet, lw=0)\n",
        "ax.axis('off')"
      ]
    },
    {
      "cell_type": "code",
      "execution_count": null,
      "metadata": {},
      "outputs": [],
      "source": [
        "Ainv = np.linalg.inv(A.toarray()) * h**2"
      ]
    },
    {
      "cell_type": "code",
      "execution_count": null,
      "metadata": {},
      "outputs": [],
      "source": [
        "np.linalg.norm(Ainv, np.inf)"
      ]
    },
    {
      "cell_type": "code",
      "execution_count": null,
      "metadata": {},
      "outputs": [],
      "source": [
        "h"
      ]
    },
    {
      "cell_type": "code",
      "execution_count": null,
      "metadata": {},
      "outputs": [],
      "source": [
        "1 / 8"
      ]
    },
    {
      "cell_type": "code",
      "execution_count": 7,
      "metadata": {},
      "outputs": [],
      "source": [
        "3\n",
        "X, Y = np.meshgrid(np.linspace(0, 1, n), np.linspace(0, 1, n))"
      ]
    },
    {
      "cell_type": "code",
      "execution_count": 9,
      "metadata": {},
      "outputs": [
        {
          "name": "stdout",
          "output_type": "stream",
          "text": [
            "[[0.   0.25 0.5  0.75 1.  ]\n",
            " [0.   0.25 0.5  0.75 1.  ]\n",
            " [0.   0.25 0.5  0.75 1.  ]\n",
            " [0.   0.25 0.5  0.75 1.  ]\n",
            " [0.   0.25 0.5  0.75 1.  ]]\n",
            "[[0.   0.   0.   0.   0.  ]\n",
            " [0.25 0.25 0.25 0.25 0.25]\n",
            " [0.5  0.5  0.5  0.5  0.5 ]\n",
            " [0.75 0.75 0.75 0.75 0.75]\n",
            " [1.   1.   1.   1.   1.  ]]\n"
          ]
        }
      ],
      "source": [
        "print(X)\n",
        "print(Y)"
      ]
    },
    {
      "cell_type": "code",
      "execution_count": 10,
      "metadata": {},
      "outputs": [
        {
          "data": {
            "text/plain": [
              "array([0.  , 0.25, 0.5 , 0.75, 1.  , 0.  , 0.25, 0.5 , 0.75, 1.  , 0.  ,\n",
              "       0.25, 0.5 , 0.75, 1.  , 0.  , 0.25, 0.5 , 0.75, 1.  , 0.  , 0.25,\n",
              "       0.5 , 0.75, 1.  ])"
            ]
          },
          "execution_count": 10,
          "metadata": {},
          "output_type": "execute_result"
        }
      ],
      "source": [
        "X.ravel()"
      ]
    },
    {
      "cell_type": "code",
      "execution_count": null,
      "metadata": {},
      "outputs": [],
      "source": []
    }
  ],
  "metadata": {
    "kernelspec": {
      "display_name": "Python 3",
      "language": "python",
      "name": "python3"
    },
    "language_info": {
      "codemirror_mode": {
        "name": "ipython",
        "version": 3
      },
      "file_extension": ".py",
      "mimetype": "text/x-python",
      "name": "python",
      "nbconvert_exporter": "python",
      "pygments_lexer": "ipython3",
      "version": "3.7.5"
    }
  },
  "nbformat": 4,
  "nbformat_minor": 2
}