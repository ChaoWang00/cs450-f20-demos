{
  "cells": [
    {
      "cell_type": "markdown",
      "metadata": {},
      "source": [
        "# Finite Differences for Boundary Value Problems"
      ]
    },
    {
      "cell_type": "code",
      "execution_count": 1,
      "metadata": {},
      "outputs": [],
      "source": [
        "import numpy as np\n",
        "import matplotlib.pyplot as pt\n",
        "\n",
        "import scipy.sparse as sps"
      ]
    },
    {
      "cell_type": "markdown",
      "metadata": {},
      "source": [
        "We'll solve\n",
        "\n",
        "$u''+1000(1+x^2)u=0$ on $(-1,1)$\n",
        "\n",
        "with $u(-1)=3$ and $u(1)=-3$."
      ]
    },
    {
      "cell_type": "code",
      "execution_count": 17,
      "metadata": {},
      "outputs": [],
      "source": [
        "n = 9\n",
        "#n = 200\n",
        "\n",
        "mesh = np.linspace(-1, 1, n)\n",
        "h = mesh[1] - mesh[0]"
      ]
    },
    {
      "cell_type": "markdown",
      "metadata": {},
      "source": [
        "Use `sps.diags(values, offsets=..., shape=(n, n))` to make a centered difference matrix."
      ]
    },
    {
      "cell_type": "code",
      "execution_count": 18,
      "metadata": {},
      "outputs": [
        {
          "name": "stdout",
          "output_type": "stream",
          "text": [
            "[[-2.  1.  0.  0.  0.  0.  0.  0.  0.]\n",
            " [ 1. -2.  1.  0.  0.  0.  0.  0.  0.]\n",
            " [ 0.  1. -2.  1.  0.  0.  0.  0.  0.]\n",
            " [ 0.  0.  1. -2.  1.  0.  0.  0.  0.]\n",
            " [ 0.  0.  0.  1. -2.  1.  0.  0.  0.]\n",
            " [ 0.  0.  0.  0.  1. -2.  1.  0.  0.]\n",
            " [ 0.  0.  0.  0.  0.  1. -2.  1.  0.]\n",
            " [ 0.  0.  0.  0.  0.  0.  1. -2.  1.]\n",
            " [ 0.  0.  0.  0.  0.  0.  0.  1. -2.]]\n"
          ]
        }
      ],
      "source": [
        "A = sps.diags(\n",
        "    [1,-2,1],\n",
        "    offsets=[-1,0,1], \n",
        "    shape=(n, n))\n",
        "\n",
        "if n < 10:\n",
        "    print(A.todense())"
      ]
    },
    {
      "cell_type": "markdown",
      "metadata": {},
      "source": [
        "Create `second_deriv` as a matrix to apply the second derivative. Can only do that for the interior points!\n",
        "\n",
        "* change `shape` and offsets\n",
        "* Take `h` into account"
      ]
    },
    {
      "cell_type": "code",
      "execution_count": 19,
      "metadata": {},
      "outputs": [
        {
          "name": "stdout",
          "output_type": "stream",
          "text": [
            "[[ 16. -32.  16.   0.   0.   0.   0.   0.   0.]\n",
            " [  0.  16. -32.  16.   0.   0.   0.   0.   0.]\n",
            " [  0.   0.  16. -32.  16.   0.   0.   0.   0.]\n",
            " [  0.   0.   0.  16. -32.  16.   0.   0.   0.]\n",
            " [  0.   0.   0.   0.  16. -32.  16.   0.   0.]\n",
            " [  0.   0.   0.   0.   0.  16. -32.  16.   0.]\n",
            " [  0.   0.   0.   0.   0.   0.  16. -32.  16.]]\n"
          ]
        }
      ],
      "source": [
        "second_deriv = sps.diags(\n",
        "    [1,-2,1],\n",
        "    offsets=np.array([-1,0,1])+1,\n",
        "    shape=(n-2, n))/h**2\n",
        "\n",
        "\n",
        "if n < 10:\n",
        "    print(second_deriv.todense())"
      ]
    },
    {
      "cell_type": "markdown",
      "metadata": {},
      "source": [
        "Make a matrix for the lower-order term."
      ]
    },
    {
      "cell_type": "code",
      "execution_count": 20,
      "metadata": {},
      "outputs": [
        {
          "name": "stdout",
          "output_type": "stream",
          "text": [
            "[-0.75 -0.5  -0.25  0.    0.25  0.5   0.75]\n",
            "\n",
            "[[   0.  1562.5    0.     0.     0.     0.     0.     0.     0. ]\n",
            " [   0.     0.  1250.     0.     0.     0.     0.     0.     0. ]\n",
            " [   0.     0.     0.  1062.5    0.     0.     0.     0.     0. ]\n",
            " [   0.     0.     0.     0.  1000.     0.     0.     0.     0. ]\n",
            " [   0.     0.     0.     0.     0.  1062.5    0.     0.     0. ]\n",
            " [   0.     0.     0.     0.     0.     0.  1250.     0.     0. ]\n",
            " [   0.     0.     0.     0.     0.     0.     0.  1562.5    0. ]]\n"
          ]
        }
      ],
      "source": [
        "factor = sps.diags(\n",
        "    [1000*(1 + mesh[1:]**2)],\n",
        "    offsets=[1],\n",
        "    shape=(n-2, n))\n",
        "\n",
        "if n < 10:\n",
        "    print(mesh[1:-1])\n",
        "    print()\n",
        "    print(factor.todense())"
      ]
    },
    {
      "cell_type": "markdown",
      "metadata": {},
      "source": [
        "Build the matrix for the interior:"
      ]
    },
    {
      "cell_type": "code",
      "execution_count": 21,
      "metadata": {},
      "outputs": [
        {
          "name": "stdout",
          "output_type": "stream",
          "text": [
            "[[  16.  1530.5   16.     0.     0.     0.     0.     0.     0. ]\n",
            " [   0.    16.  1218.    16.     0.     0.     0.     0.     0. ]\n",
            " [   0.     0.    16.  1030.5   16.     0.     0.     0.     0. ]\n",
            " [   0.     0.     0.    16.   968.    16.     0.     0.     0. ]\n",
            " [   0.     0.     0.     0.    16.  1030.5   16.     0.     0. ]\n",
            " [   0.     0.     0.     0.     0.    16.  1218.    16.     0. ]\n",
            " [   0.     0.     0.     0.     0.     0.    16.  1530.5   16. ]]\n"
          ]
        }
      ],
      "source": [
        "A_int = second_deriv+factor\n",
        "\n",
        "if n < 10:\n",
        "    print(A_int.todense())"
      ]
    },
    {
      "cell_type": "markdown",
      "metadata": {},
      "source": [
        "Glue on the rows for the boundary conditions:"
      ]
    },
    {
      "cell_type": "code",
      "execution_count": 22,
      "metadata": {},
      "outputs": [
        {
          "name": "stdout",
          "output_type": "stream",
          "text": [
            "[[1.0000e+00 0.0000e+00 0.0000e+00 0.0000e+00 0.0000e+00 0.0000e+00\n",
            "  0.0000e+00 0.0000e+00 0.0000e+00]\n",
            " [1.6000e+01 1.5305e+03 1.6000e+01 0.0000e+00 0.0000e+00 0.0000e+00\n",
            "  0.0000e+00 0.0000e+00 0.0000e+00]\n",
            " [0.0000e+00 1.6000e+01 1.2180e+03 1.6000e+01 0.0000e+00 0.0000e+00\n",
            "  0.0000e+00 0.0000e+00 0.0000e+00]\n",
            " [0.0000e+00 0.0000e+00 1.6000e+01 1.0305e+03 1.6000e+01 0.0000e+00\n",
            "  0.0000e+00 0.0000e+00 0.0000e+00]\n",
            " [0.0000e+00 0.0000e+00 0.0000e+00 1.6000e+01 9.6800e+02 1.6000e+01\n",
            "  0.0000e+00 0.0000e+00 0.0000e+00]\n",
            " [0.0000e+00 0.0000e+00 0.0000e+00 0.0000e+00 1.6000e+01 1.0305e+03\n",
            "  1.6000e+01 0.0000e+00 0.0000e+00]\n",
            " [0.0000e+00 0.0000e+00 0.0000e+00 0.0000e+00 0.0000e+00 1.6000e+01\n",
            "  1.2180e+03 1.6000e+01 0.0000e+00]\n",
            " [0.0000e+00 0.0000e+00 0.0000e+00 0.0000e+00 0.0000e+00 0.0000e+00\n",
            "  1.6000e+01 1.5305e+03 1.6000e+01]\n",
            " [0.0000e+00 0.0000e+00 0.0000e+00 0.0000e+00 0.0000e+00 0.0000e+00\n",
            "  0.0000e+00 0.0000e+00 1.0000e+00]]\n"
          ]
        }
      ],
      "source": [
        "A = sps.vstack([\n",
        "    sps.coo_matrix(([1], ([0],[0])), shape=(1, n)),\n",
        "    A_int,\n",
        "    sps.coo_matrix(([1], ([0],[n-1])), shape=(1, n)),\n",
        "    ])\n",
        "A = sps.csr_matrix(A)\n",
        "\n",
        "if n < 10:\n",
        "    print(A.todense())"
      ]
    },
    {
      "cell_type": "markdown",
      "metadata": {},
      "source": [
        "Next, assemble the right-hand side as `rhs`:\n",
        "\n",
        "Pay special attention to the boundary conditions. What entries of `rhs` do they correspond to?"
      ]
    },
    {
      "cell_type": "code",
      "execution_count": 23,
      "metadata": {},
      "outputs": [],
      "source": [
        "rhs = np.zeros(n)\n",
        "rhs[0] = 3\n",
        "rhs[-1] = -3"
      ]
    },
    {
      "cell_type": "markdown",
      "metadata": {},
      "source": [
        "To wrap up, solve and plot:"
      ]
    },
    {
      "cell_type": "code",
      "execution_count": 24,
      "metadata": {},
      "outputs": [],
      "source": [
        "import scipy.sparse.linalg as sla\n",
        "\n",
        "sol = sla.spsolve(A, rhs)"
      ]
    },
    {
      "cell_type": "code",
      "execution_count": 25,
      "metadata": {},
      "outputs": [
        {
          "data": {
            "text/plain": [
              "[<matplotlib.lines.Line2D at 0x1124f32d0>]"
            ]
          },
          "execution_count": 25,
          "metadata": {},
          "output_type": "execute_result"
        },
        {
          "data": {
            "image/png": "[encoded data removed]",
            "text/plain": [
              "<Figure size 432x288 with 1 Axes>"
            ]
          },
          "metadata": {},
          "output_type": "display_data"
        }
      ],
      "source": [
        "pt.plot(mesh, sol)"
      ]
    },
    {
      "cell_type": "code",
      "execution_count": 26,
      "metadata": {},
      "outputs": [
        {
          "data": {
            "text/plain": [
              "array([1.0000e+00, 1.5305e+03, 1.2180e+03, 1.0305e+03, 9.6800e+02,\n",
              "       1.0305e+03, 1.2180e+03, 1.5305e+03, 1.0000e+00])"
            ]
          },
          "execution_count": 26,
          "metadata": {},
          "output_type": "execute_result"
        }
      ],
      "source": [
        "A.diagonal()"
      ]
    },
    {
      "cell_type": "code",
      "execution_count": null,
      "metadata": {},
      "outputs": [],
      "source": []
    },
    {
      "cell_type": "code",
      "execution_count": 28,
      "metadata": {},
      "outputs": [
        {
          "data": {
            "text/plain": [
              "<matplotlib.lines.Line2D at 0x1125d0f10>"
            ]
          },
          "execution_count": 28,
          "metadata": {},
          "output_type": "execute_result"
        },
        {
          "data": {
            "image/png": "[encoded data removed]",
            "text/plain": [
              "<Figure size 432x288 with 1 Axes>"
            ]
          },
          "metadata": {},
          "output_type": "display_data"
        }
      ],
      "source": [
        "pt.spy(A)"
      ]
    },
    {
      "cell_type": "code",
      "execution_count": null,
      "metadata": {},
      "outputs": [],
      "source": []
    }
  ],
  "metadata": {
    "kernelspec": {
      "display_name": "Python 3",
      "language": "python",
      "name": "python3"
    },
    "language_info": {
      "codemirror_mode": {
        "name": "ipython",
        "version": 3
      },
      "file_extension": ".py",
      "mimetype": "text/x-python",
      "name": "python",
      "nbconvert_exporter": "python",
      "pygments_lexer": "ipython3",
      "version": "3.7.5"
    }
  },
  "nbformat": 4,
  "nbformat_minor": 2
}