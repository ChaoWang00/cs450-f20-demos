{
  "cells": [
    {
      "cell_type": "markdown",
      "metadata": {},
      "source": [
        "# Sparse Matrix Factorizations and Fill-In"
      ]
    },
    {
      "cell_type": "code",
      "execution_count": 1,
      "metadata": {},
      "outputs": [],
      "source": [
        "import numpy as np\n",
        "import scipy.linalg as la\n",
        "\n",
        "import matplotlib.pyplot as pt\n",
        "\n",
        "import random"
      ]
    },
    {
      "cell_type": "markdown",
      "metadata": {},
      "source": [
        "Here's a helper routine to make a random **symmetric** sparse matrix:"
      ]
    },
    {
      "cell_type": "code",
      "execution_count": 2,
      "metadata": {},
      "outputs": [],
      "source": [
        "def make_random_sparse_matrix(n, row_fill):\n",
        "    nentries = (n*row_fill) // 2 # because of symmetry\n",
        "    data = np.random.randn(nentries)\n",
        "    rows = np.random.randint(0, n-1, nentries)\n",
        "    cols = np.random.randint(0, n-1, nentries)\n",
        "    \n",
        "    import scipy.sparse as sps\n",
        "    \n",
        "    coo = sps.coo_matrix((data, (rows, cols)), shape=(n,n))\n",
        "    \n",
        "    # NOTE: Cuthill-McKee applies only to symmetric matrices!\n",
        "    return (100*np.eye(n) + np.array(coo.todense() +  coo.todense().T))"
      ]
    },
    {
      "cell_type": "markdown",
      "metadata": {},
      "source": [
        "Next, we will take a look at that matrix from a \"birds eye view\". Every entry with absolute value greater that $10^{-10}$ will show up as a 'dot':"
      ]
    },
    {
      "cell_type": "code",
      "execution_count": 3,
      "metadata": {},
      "outputs": [
        {
          "name": "stdout",
          "output_type": "stream",
          "text": [
            "794 non-zeros\n"
          ]
        },
        {
          "data": {
            "text/plain": [
              "<matplotlib.lines.Line2D at 0x11c693cd0>"
            ]
          },
          "execution_count": 3,
          "metadata": {},
          "output_type": "execute_result"
        },
        {
          "data": {
            "image/png": "[encoded data removed]",
            "text/plain": [
              "<Figure size 432x288 with 1 Axes>"
            ]
          },
          "metadata": {},
          "output_type": "display_data"
        }
      ],
      "source": [
        "prec = 1e-10\n",
        "\n",
        "np.random.seed(15)\n",
        "random.seed(15)\n",
        "\n",
        "A = make_random_sparse_matrix(200, 3)\n",
        "print(\"%d non-zeros\" % len(np.where(np.abs(A)>prec)[0]))\n",
        "pt.figure()\n",
        "pt.spy(A, marker=\",\", precision=prec)"
      ]
    },
    {
      "cell_type": "markdown",
      "metadata": {},
      "source": [
        "Next, let's apply the same visualization to the inverse:"
      ]
    },
    {
      "cell_type": "code",
      "execution_count": 4,
      "metadata": {},
      "outputs": [
        {
          "name": "stdout",
          "output_type": "stream",
          "text": [
            "7148 non-zeros\n"
          ]
        },
        {
          "data": {
            "text/plain": [
              "<matplotlib.lines.Line2D at 0x10bfd9e50>"
            ]
          },
          "execution_count": 4,
          "metadata": {},
          "output_type": "execute_result"
        },
        {
          "data": {
            "image/png": "[encoded data removed]",
            "text/plain": [
              "<Figure size 432x288 with 1 Axes>"
            ]
          },
          "metadata": {},
          "output_type": "display_data"
        }
      ],
      "source": [
        "Ainv = la.inv(A)\n",
        "print(\"%d non-zeros\" % len(np.where(np.abs(Ainv) > prec)[0]))\n",
        "pt.spy(Ainv, marker=\",\", precision=prec)"
      ]
    },
    {
      "cell_type": "markdown",
      "metadata": {},
      "source": [
        "And the Cholesky factorization:"
      ]
    },
    {
      "cell_type": "code",
      "execution_count": 5,
      "metadata": {},
      "outputs": [
        {
          "name": "stdout",
          "output_type": "stream",
          "text": [
            "1819 non-zeros\n"
          ]
        },
        {
          "data": {
            "text/plain": [
              "<matplotlib.lines.Line2D at 0x11c6ec7d0>"
            ]
          },
          "execution_count": 5,
          "metadata": {},
          "output_type": "execute_result"
        },
        {
          "data": {
            "image/png": "[encoded data removed]",
            "text/plain": [
              "<Figure size 432x288 with 1 Axes>"
            ]
          },
          "metadata": {},
          "output_type": "display_data"
        }
      ],
      "source": [
        "L = la.cholesky(A)\n",
        "print(\"%d non-zeros\" % len(np.where(np.abs(L) > prec)[0]))\n",
        "pt.spy(L, marker=\",\", precision=prec)"
      ]
    },
    {
      "cell_type": "markdown",
      "metadata": {},
      "source": [
        "Cholesky is often less bad, but in principle affected the same way."
      ]
    },
    {
      "cell_type": "markdown",
      "metadata": {},
      "source": [
        "## Reducing the fill-in"
      ]
    },
    {
      "cell_type": "markdown",
      "metadata": {},
      "source": [
        "Define the *degree* of a row as the number of non-zeros in it."
      ]
    },
    {
      "cell_type": "code",
      "execution_count": 6,
      "metadata": {},
      "outputs": [
        {
          "name": "stdout",
          "output_type": "stream",
          "text": [
            "2\n",
            "4\n",
            "3\n"
          ]
        }
      ],
      "source": [
        "def degree(mat, row):\n",
        "    return len(np.where(mat[row])[0])\n",
        "\n",
        "print(degree(A, 3))\n",
        "print(degree(A, 4))\n",
        "print(degree(A, 5))"
      ]
    },
    {
      "cell_type": "markdown",
      "metadata": {},
      "source": [
        "Then find an ordering so that all the low degrees come first.\n",
        "\n",
        "The [Cuthill-McKee algorithm](https://en.wikipedia.org/wiki/Cuthill%E2%80%93McKee_algorithm) is a greedy algorithm to find such an ordering:"
      ]
    },
    {
      "cell_type": "code",
      "execution_count": 7,
      "metadata": {},
      "outputs": [],
      "source": [
        "def argmin2(iterable, return_value=False):\n",
        "    it = iter(iterable)\n",
        "    try:\n",
        "        current_argmin, current_min = next(it)\n",
        "    except StopIteration:\n",
        "        raise ValueError(\"argmin of empty iterable\")\n",
        "\n",
        "    for arg, item in it:\n",
        "        if item < current_min:\n",
        "            current_argmin = arg\n",
        "            current_min = item\n",
        "\n",
        "    if return_value:\n",
        "        return current_argmin, current_min\n",
        "    else:\n",
        "        return current_argmin\n",
        "\n",
        "def argmin(iterable):\n",
        "    return argmin2(enumerate(iterable))"
      ]
    },
    {
      "cell_type": "code",
      "execution_count": 8,
      "metadata": {},
      "outputs": [],
      "source": [
        "def cuthill_mckee(mat):\n",
        "    \"\"\"Return a Cuthill-McKee ordering for the given matrix.\n",
        "\n",
        "    See (for example)\n",
        "    Y. Saad, Iterative Methods for Sparse Linear System,\n",
        "    2nd edition, p. 76.\n",
        "    \"\"\"\n",
        "\n",
        "    # this list is called \"old_numbers\" because it maps a\n",
        "    # \"new number to its \"old number\"\n",
        "    old_numbers = []\n",
        "    visited_nodes = set()\n",
        "    levelset = []\n",
        "\n",
        "    all_nodes = set(range(len(mat)))\n",
        "\n",
        "    while len(old_numbers) < len(mat):\n",
        "        if not levelset:\n",
        "            unvisited = list(all_nodes - visited_nodes)\n",
        "\n",
        "            if not unvisited:\n",
        "                break\n",
        "\n",
        "            start_node = unvisited[\n",
        "                    argmin(degree(mat, node) for node in unvisited)]\n",
        "            visited_nodes.add(start_node)\n",
        "            old_numbers.append(start_node)\n",
        "            levelset = [start_node]\n",
        "\n",
        "        next_levelset = set()\n",
        "        levelset.sort(key=lambda row: degree(mat, row))\n",
        "        #print(levelset)\n",
        "        \n",
        "        for node in levelset:\n",
        "            row = mat[node]\n",
        "            neighbors, = np.where(row)\n",
        "            \n",
        "            for neighbor in neighbors:\n",
        "                if neighbor in visited_nodes:\n",
        "                    continue\n",
        "\n",
        "                visited_nodes.add(neighbor)\n",
        "                next_levelset.add(neighbor)\n",
        "                old_numbers.append(neighbor)\n",
        "\n",
        "        levelset = list(next_levelset)\n",
        "\n",
        "    return np.array(old_numbers, dtype=np.intp)"
      ]
    },
    {
      "cell_type": "code",
      "execution_count": 9,
      "metadata": {},
      "outputs": [],
      "source": [
        "cmk = cuthill_mckee(A)"
      ]
    },
    {
      "cell_type": "markdown",
      "metadata": {},
      "source": [
        "Someone (empirically) observed that the *reverse* of the Cuthill-McKee ordering often does better than forward Cuthill-McKee.\n",
        "\n",
        "So construct a permutation matrix corresponding to that:"
      ]
    },
    {
      "cell_type": "code",
      "execution_count": 10,
      "metadata": {},
      "outputs": [],
      "source": [
        "P = np.eye(len(A))[cmk[::-1]]"
      ]
    },
    {
      "cell_type": "markdown",
      "metadata": {},
      "source": [
        "And then reorder both rows and columns according to that--a similarity transform:"
      ]
    },
    {
      "cell_type": "code",
      "execution_count": 11,
      "metadata": {},
      "outputs": [
        {
          "data": {
            "text/plain": [
              "<matplotlib.lines.Line2D at 0x11daf4d10>"
            ]
          },
          "execution_count": 11,
          "metadata": {},
          "output_type": "execute_result"
        },
        {
          "data": {
            "image/png": "[encoded data removed]",
            "text/plain": [
              "<Figure size 432x288 with 1 Axes>"
            ]
          },
          "metadata": {},
          "output_type": "display_data"
        }
      ],
      "source": [
        "A_reordered = P @ A @ P.T\n",
        "\n",
        "pt.spy(A_reordered, marker=\",\", precision=prec)"
      ]
    },
    {
      "cell_type": "markdown",
      "metadata": {},
      "source": [
        "Next, let's try Cholesky again:"
      ]
    },
    {
      "cell_type": "code",
      "execution_count": 12,
      "metadata": {},
      "outputs": [
        {
          "name": "stdout",
          "output_type": "stream",
          "text": [
            "1188 non-zeros\n"
          ]
        },
        {
          "data": {
            "text/plain": [
              "<matplotlib.lines.Line2D at 0x11db93f10>"
            ]
          },
          "execution_count": 12,
          "metadata": {},
          "output_type": "execute_result"
        },
        {
          "data": {
            "image/png": "[encoded data removed]",
            "text/plain": [
              "<Figure size 432x288 with 1 Axes>"
            ]
          },
          "metadata": {},
          "output_type": "display_data"
        }
      ],
      "source": [
        "L = la.cholesky(A_reordered)\n",
        "print(\"%d non-zeros\" % len(np.where(np.abs(L) > prec)[0]))\n",
        "pt.spy(L, marker=\",\", precision=prec)"
      ]
    },
    {
      "cell_type": "code",
      "execution_count": null,
      "metadata": {},
      "outputs": [],
      "source": []
    }
  ],
  "metadata": {
    "kernelspec": {
      "display_name": "Python 3",
      "language": "python",
      "name": "python3"
    },
    "language_info": {
      "codemirror_mode": {
        "name": "ipython",
        "version": 3
      },
      "file_extension": ".py",
      "mimetype": "text/x-python",
      "name": "python",
      "nbconvert_exporter": "python",
      "pygments_lexer": "ipython3",
      "version": "3.7.5"
    }
  },
  "nbformat": 4,
  "nbformat_minor": 1
}