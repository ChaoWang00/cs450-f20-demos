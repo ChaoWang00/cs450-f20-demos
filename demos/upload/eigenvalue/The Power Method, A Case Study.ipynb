{
  "cells": [
    {
      "cell_type": "code",
      "execution_count": 2,
      "metadata": {},
      "outputs": [],
      "source": [
        "import numpy as np\n",
        "import matplotlib.pyplot as plt\n",
        "%matplotlib inline\n",
        "import seaborn as sns\n",
        "sns.set_context('talk')"
      ]
    },
    {
      "cell_type": "code",
      "execution_count": 22,
      "metadata": {},
      "outputs": [],
      "source": [
        "def power_method(A, x, maxiter):\n",
        "    eigs = np.zeros(maxiter)\n",
        "    eigv = np.zeros((len(x), maxiter))\n",
        "\n",
        "    for i in range(maxiter):\n",
        "        y = A @ x\n",
        "        ynorm = np.linalg.norm(y,np.inf)\n",
        "        x = y / ynorm\n",
        "        \n",
        "        eigs[i] = ynorm\n",
        "        eigv[:,i] = x\n",
        "        \n",
        "    return x, eigs, eigv"
      ]
    },
    {
      "cell_type": "markdown",
      "metadata": {},
      "source": [
        "# Test 1"
      ]
    },
    {
      "cell_type": "code",
      "execution_count": 42,
      "metadata": {},
      "outputs": [],
      "source": [
        "n = 12\n",
        "x = np.linspace(0,1,n)\n",
        "X = np.zeros((n,n))\n",
        "for i in range(n):\n",
        "    X[:,i] = x**i\n",
        "A = np.linalg.inv(X) @ np.diag(np.arange(1,n+1)) @ X\n",
        "\n",
        "x, eigs, eigv = power_method(A, np.random.rand(A.shape[0]), 1000)"
      ]
    },
    {
      "cell_type": "code",
      "execution_count": 43,
      "metadata": {},
      "outputs": [
        {
          "data": {
            "text/plain": [
              "array([ 13.34105466, 168.69675375,  54.02063997,  36.18382685,\n",
              "        28.91165173,  25.05882227,  22.53830573,  20.71084762,\n",
              "        19.34021256,  18.29575749,  17.48578153,  16.84112842,\n",
              "        16.31108628,  15.86087204,  15.46826491,  15.11983308,\n",
              "        14.80761982,  14.52673278,  14.2738344 ,  14.04631296,\n",
              "        13.84188428,  13.65843058,  13.49395342,  13.34657237,\n",
              "        13.2145364 ,  13.0962338 ,  12.99019657,  12.89509892,\n",
              "        12.80975136,  12.73309186,  12.66417542,  12.60216312,\n",
              "        12.54631123,  12.49596084,  12.45052827,  12.40949636,\n",
              "        12.37240658,  12.33885209,  12.30847152,  12.28094354,\n",
              "        12.25598213,  12.23333231,  12.21276654,  12.19408152,\n",
              "        12.17709532,  12.161645  ,  12.1475844 ,  12.1347823 ,\n",
              "        12.12312072,  12.1124935 ,  12.10280499,  12.09396896,\n",
              "        12.08590754,  12.07855039,  12.07183392,  12.06570055,\n",
              "        12.06009815,  12.05497945,  12.0503016 ,  12.04602567,\n",
              "        12.04211633,  12.03854146,  12.03527186,  12.03228097,\n",
              "        12.02954459,  12.0270407 ,  12.02474925,  12.02265194,\n",
              "        12.0207321 ,  12.01897451,  12.01736531,  12.01589182,\n",
              "        12.01454249,  12.01330674,  12.01217492,  12.01113824,\n",
              "        12.01018861,  12.00931869,  12.00852174,  12.00779159,\n",
              "        12.00712261,  12.00650966,  12.00594801,  12.00543335,\n",
              "        12.00496174,  12.00452955,  12.00413348,  12.0037705 ,\n",
              "        12.00343784,  12.00313295,  12.00285352,  12.0025974 ,\n",
              "        12.00236266,  12.00214749,  12.00195028,  12.00176951,\n",
              "        12.00160381,  12.00145193,  12.0013127 ,  12.00118508,\n",
              "        12.0010681 ,  12.00096086,  12.00086256,  12.00077244,\n",
              "        12.00068983,  12.00061411,  12.00054469,  12.00048105,\n",
              "        12.00042271,  12.00036923,  12.0003202 ,  12.00027526,\n",
              "        12.00023406,  12.00019628,  12.00016166,  12.00012991,\n",
              "        12.00010081,  12.00007413,  12.00004967,  12.00002725,\n",
              "        12.00000669,  11.99998785,  11.99997057,  11.99995473,\n",
              "        11.99994021,  11.9999269 ,  11.99991469,  11.9999035 ,\n",
              "        11.99989325,  11.99988384,  11.99987522,  11.99986732,\n",
              "        11.99986007,  11.99985343,  11.99984734,  11.99984176,\n",
              "        11.99983664,  11.99983195,  11.99982765,  11.9998237 ,\n",
              "        11.99982009,  11.99981677,  11.99981373,  11.99981095,\n",
              "        11.99980839,  11.99980605,  11.9998039 ,  11.99980193,\n",
              "        11.99980013,  11.99979848,  11.99979696,  11.99979557,\n",
              "        11.99979429,  11.99979313,  11.99979205,  11.99979107,\n",
              "        11.99979017,  11.99978935,  11.99978859,  11.99978789,\n",
              "        11.99978726,  11.99978668,  11.99978614,  11.99978565,\n",
              "        11.9997852 ,  11.99978479,  11.99978441,  11.99978407,\n",
              "        11.99978375,  11.99978346,  11.99978319,  11.99978295,\n",
              "        11.99978272,  11.99978252,  11.99978233,  11.99978215,\n",
              "        11.999782  ,  11.99978185,  11.99978172,  11.9997816 ,\n",
              "        11.99978148,  11.99978138,  11.99978129,  11.9997812 ,\n",
              "        11.99978112,  11.99978105,  11.99978098,  11.99978092,\n",
              "        11.99978087,  11.99978081,  11.99978077,  11.99978072,\n",
              "        11.99978069,  11.99978065,  11.99978062,  11.99978059,\n",
              "        11.99978056,  11.99978053,  11.99978051,  11.99978049,\n",
              "        11.99978047,  11.99978045,  11.99978043,  11.99978042,\n",
              "        11.9997804 ,  11.99978039,  11.99978038,  11.99978037,\n",
              "        11.99978036,  11.99978035,  11.99978034,  11.99978033,\n",
              "        11.99978033,  11.99978032,  11.99978031,  11.99978031,\n",
              "        11.9997803 ,  11.9997803 ,  11.9997803 ,  11.99978029,\n",
              "        11.99978029,  11.99978029,  11.99978028,  11.99978028,\n",
              "        11.99978028,  11.99978028,  11.99978027,  11.99978027,\n",
              "        11.99978027,  11.99978027,  11.99978027,  11.99978027,\n",
              "        11.99978026,  11.99978026,  11.99978026,  11.99978026,\n",
              "        11.99978026,  11.99978026,  11.99978026,  11.99978026,\n",
              "        11.99978026,  11.99978026,  11.99978026,  11.99978026,\n",
              "        11.99978026,  11.99978026,  11.99978025,  11.99978025,\n",
              "        11.99978025,  11.99978025,  11.99978025,  11.99978025,\n",
              "        11.99978025,  11.99978025,  11.99978025,  11.99978025,\n",
              "        11.99978025,  11.99978025,  11.99978025,  11.99978025,\n",
              "        11.99978025,  11.99978025,  11.99978025,  11.99978025,\n",
              "        11.99978025,  11.99978025,  11.99978025,  11.99978025,\n",
              "        11.99978025,  11.99978025,  11.99978025,  11.99978025,\n",
              "        11.99978025,  11.99978025,  11.99978025,  11.99978025,\n",
              "        11.99978025,  11.99978025,  11.99978025,  11.99978025,\n",
              "        11.99978025,  11.99978025,  11.99978025,  11.99978025,\n",
              "        11.99978025,  11.99978025,  11.99978025,  11.99978025,\n",
              "        11.99978025,  11.99978025,  11.99978025,  11.99978025,\n",
              "        11.99978025,  11.99978025,  11.99978025,  11.99978025,\n",
              "        11.99978025,  11.99978025,  11.99978025,  11.99978025,\n",
              "        11.99978025,  11.99978025,  11.99978025,  11.99978025,\n",
              "        11.99978025,  11.99978025,  11.99978025,  11.99978025,\n",
              "        11.99978025,  11.99978025,  11.99978025,  11.99978025,\n",
              "        11.99978025,  11.99978025,  11.99978025,  11.99978025,\n",
              "        11.99978025,  11.99978025,  11.99978025,  11.99978025,\n",
              "        11.99978025,  11.99978025,  11.99978025,  11.99978025,\n",
              "        11.99978025,  11.99978025,  11.99978025,  11.99978025,\n",
              "        11.99978025,  11.99978025,  11.99978025,  11.99978025,\n",
              "        11.99978025,  11.99978025,  11.99978025,  11.99978025,\n",
              "        11.99978025,  11.99978025,  11.99978025,  11.99978025,\n",
              "        11.99978025,  11.99978025,  11.99978025,  11.99978025,\n",
              "        11.99978025,  11.99978025,  11.99978025,  11.99978025,\n",
              "        11.99978025,  11.99978025,  11.99978025,  11.99978025,\n",
              "        11.99978025,  11.99978025,  11.99978025,  11.99978025,\n",
              "        11.99978025,  11.99978025,  11.99978025,  11.99978025,\n",
              "        11.99978025,  11.99978025,  11.99978025,  11.99978025,\n",
              "        11.99978025,  11.99978025,  11.99978025,  11.99978025,\n",
              "        11.99978025,  11.99978025,  11.99978025,  11.99978025,\n",
              "        11.99978025,  11.99978025,  11.99978025,  11.99978025,\n",
              "        11.99978025,  11.99978025,  11.99978025,  11.99978025,\n",
              "        11.99978025,  11.99978025,  11.99978025,  11.99978025,\n",
              "        11.99978025,  11.99978025,  11.99978025,  11.99978025,\n",
              "        11.99978025,  11.99978025,  11.99978025,  11.99978025,\n",
              "        11.99978025,  11.99978025,  11.99978025,  11.99978025,\n",
              "        11.99978025,  11.99978025,  11.99978025,  11.99978025,\n",
              "        11.99978025,  11.99978025,  11.99978025,  11.99978025,\n",
              "        11.99978025,  11.99978025,  11.99978025,  11.99978025,\n",
              "        11.99978025,  11.99978025,  11.99978025,  11.99978025,\n",
              "        11.99978025,  11.99978025,  11.99978025,  11.99978025,\n",
              "        11.99978025,  11.99978025,  11.99978025,  11.99978025,\n",
              "        11.99978025,  11.99978025,  11.99978025,  11.99978025,\n",
              "        11.99978025,  11.99978025,  11.99978025,  11.99978025,\n",
              "        11.99978025,  11.99978025,  11.99978025,  11.99978025,\n",
              "        11.99978025,  11.99978025,  11.99978025,  11.99978025,\n",
              "        11.99978025,  11.99978025,  11.99978025,  11.99978025,\n",
              "        11.99978025,  11.99978025,  11.99978025,  11.99978025,\n",
              "        11.99978025,  11.99978025,  11.99978025,  11.99978025,\n",
              "        11.99978025,  11.99978025,  11.99978025,  11.99978025,\n",
              "        11.99978025,  11.99978025,  11.99978025,  11.99978025,\n",
              "        11.99978025,  11.99978025,  11.99978025,  11.99978025,\n",
              "        11.99978025,  11.99978025,  11.99978025,  11.99978025,\n",
              "        11.99978025,  11.99978025,  11.99978025,  11.99978025,\n",
              "        11.99978025,  11.99978025,  11.99978025,  11.99978025,\n",
              "        11.99978025,  11.99978025,  11.99978025,  11.99978025,\n",
              "        11.99978025,  11.99978025,  11.99978025,  11.99978025,\n",
              "        11.99978025,  11.99978025,  11.99978025,  11.99978025,\n",
              "        11.99978025,  11.99978025,  11.99978025,  11.99978025,\n",
              "        11.99978025,  11.99978025,  11.99978025,  11.99978025,\n",
              "        11.99978025,  11.99978025,  11.99978025,  11.99978025,\n",
              "        11.99978025,  11.99978025,  11.99978025,  11.99978025,\n",
              "        11.99978025,  11.99978025,  11.99978025,  11.99978025,\n",
              "        11.99978025,  11.99978025,  11.99978025,  11.99978025,\n",
              "        11.99978025,  11.99978025,  11.99978025,  11.99978025,\n",
              "        11.99978025,  11.99978025,  11.99978025,  11.99978025,\n",
              "        11.99978025,  11.99978025,  11.99978025,  11.99978025,\n",
              "        11.99978025,  11.99978025,  11.99978025,  11.99978025,\n",
              "        11.99978025,  11.99978025,  11.99978025,  11.99978025,\n",
              "        11.99978025,  11.99978025,  11.99978025,  11.99978025,\n",
              "        11.99978025,  11.99978025,  11.99978025,  11.99978025,\n",
              "        11.99978025,  11.99978025,  11.99978025,  11.99978025,\n",
              "        11.99978025,  11.99978025,  11.99978025,  11.99978025,\n",
              "        11.99978025,  11.99978025,  11.99978025,  11.99978025,\n",
              "        11.99978025,  11.99978025,  11.99978025,  11.99978025,\n",
              "        11.99978025,  11.99978025,  11.99978025,  11.99978025,\n",
              "        11.99978025,  11.99978025,  11.99978025,  11.99978025,\n",
              "        11.99978025,  11.99978025,  11.99978025,  11.99978025,\n",
              "        11.99978025,  11.99978025,  11.99978025,  11.99978025,\n",
              "        11.99978025,  11.99978025,  11.99978025,  11.99978025,\n",
              "        11.99978025,  11.99978025,  11.99978025,  11.99978025,\n",
              "        11.99978025,  11.99978025,  11.99978025,  11.99978025,\n",
              "        11.99978025,  11.99978025,  11.99978025,  11.99978025,\n",
              "        11.99978025,  11.99978025,  11.99978025,  11.99978025,\n",
              "        11.99978025,  11.99978025,  11.99978025,  11.99978025,\n",
              "        11.99978025,  11.99978025,  11.99978025,  11.99978025,\n",
              "        11.99978025,  11.99978025,  11.99978025,  11.99978025,\n",
              "        11.99978025,  11.99978025,  11.99978025,  11.99978025,\n",
              "        11.99978025,  11.99978025,  11.99978025,  11.99978025,\n",
              "        11.99978025,  11.99978025,  11.99978025,  11.99978025,\n",
              "        11.99978025,  11.99978025,  11.99978025,  11.99978025,\n",
              "        11.99978025,  11.99978025,  11.99978025,  11.99978025,\n",
              "        11.99978025,  11.99978025,  11.99978025,  11.99978025,\n",
              "        11.99978025,  11.99978025,  11.99978025,  11.99978025,\n",
              "        11.99978025,  11.99978025,  11.99978025,  11.99978025,\n",
              "        11.99978025,  11.99978025,  11.99978025,  11.99978025,\n",
              "        11.99978025,  11.99978025,  11.99978025,  11.99978025,\n",
              "        11.99978025,  11.99978025,  11.99978025,  11.99978025,\n",
              "        11.99978025,  11.99978025,  11.99978025,  11.99978025,\n",
              "        11.99978025,  11.99978025,  11.99978025,  11.99978025,\n",
              "        11.99978025,  11.99978025,  11.99978025,  11.99978025,\n",
              "        11.99978025,  11.99978025,  11.99978025,  11.99978025,\n",
              "        11.99978025,  11.99978025,  11.99978025,  11.99978025,\n",
              "        11.99978025,  11.99978025,  11.99978025,  11.99978025,\n",
              "        11.99978025,  11.99978025,  11.99978025,  11.99978025,\n",
              "        11.99978025,  11.99978025,  11.99978025,  11.99978025,\n",
              "        11.99978025,  11.99978025,  11.99978025,  11.99978025,\n",
              "        11.99978025,  11.99978025,  11.99978025,  11.99978025,\n",
              "        11.99978025,  11.99978025,  11.99978025,  11.99978025,\n",
              "        11.99978025,  11.99978025,  11.99978025,  11.99978025,\n",
              "        11.99978025,  11.99978025,  11.99978025,  11.99978025,\n",
              "        11.99978025,  11.99978025,  11.99978025,  11.99978025,\n",
              "        11.99978025,  11.99978025,  11.99978025,  11.99978025,\n",
              "        11.99978025,  11.99978025,  11.99978025,  11.99978025,\n",
              "        11.99978025,  11.99978025,  11.99978025,  11.99978025,\n",
              "        11.99978025,  11.99978025,  11.99978025,  11.99978025,\n",
              "        11.99978025,  11.99978025,  11.99978025,  11.99978025,\n",
              "        11.99978025,  11.99978025,  11.99978025,  11.99978025,\n",
              "        11.99978025,  11.99978025,  11.99978025,  11.99978025,\n",
              "        11.99978025,  11.99978025,  11.99978025,  11.99978025,\n",
              "        11.99978025,  11.99978025,  11.99978025,  11.99978025,\n",
              "        11.99978025,  11.99978025,  11.99978025,  11.99978025,\n",
              "        11.99978025,  11.99978025,  11.99978025,  11.99978025,\n",
              "        11.99978025,  11.99978025,  11.99978025,  11.99978025,\n",
              "        11.99978025,  11.99978025,  11.99978025,  11.99978025,\n",
              "        11.99978025,  11.99978025,  11.99978025,  11.99978025,\n",
              "        11.99978025,  11.99978025,  11.99978025,  11.99978025,\n",
              "        11.99978025,  11.99978025,  11.99978025,  11.99978025,\n",
              "        11.99978025,  11.99978025,  11.99978025,  11.99978025,\n",
              "        11.99978025,  11.99978025,  11.99978025,  11.99978025,\n",
              "        11.99978025,  11.99978025,  11.99978025,  11.99978025,\n",
              "        11.99978025,  11.99978025,  11.99978025,  11.99978025,\n",
              "        11.99978025,  11.99978025,  11.99978025,  11.99978025,\n",
              "        11.99978025,  11.99978025,  11.99978025,  11.99978025,\n",
              "        11.99978025,  11.99978025,  11.99978025,  11.99978025,\n",
              "        11.99978025,  11.99978025,  11.99978025,  11.99978025,\n",
              "        11.99978025,  11.99978025,  11.99978025,  11.99978025,\n",
              "        11.99978025,  11.99978025,  11.99978025,  11.99978025,\n",
              "        11.99978025,  11.99978025,  11.99978025,  11.99978025,\n",
              "        11.99978025,  11.99978025,  11.99978025,  11.99978025,\n",
              "        11.99978025,  11.99978025,  11.99978025,  11.99978025,\n",
              "        11.99978025,  11.99978025,  11.99978025,  11.99978025,\n",
              "        11.99978025,  11.99978025,  11.99978025,  11.99978025,\n",
              "        11.99978025,  11.99978025,  11.99978025,  11.99978025,\n",
              "        11.99978025,  11.99978025,  11.99978025,  11.99978025,\n",
              "        11.99978025,  11.99978025,  11.99978025,  11.99978025,\n",
              "        11.99978025,  11.99978025,  11.99978025,  11.99978025,\n",
              "        11.99978025,  11.99978025,  11.99978025,  11.99978025,\n",
              "        11.99978025,  11.99978025,  11.99978025,  11.99978025,\n",
              "        11.99978025,  11.99978025,  11.99978025,  11.99978025,\n",
              "        11.99978025,  11.99978025,  11.99978025,  11.99978025,\n",
              "        11.99978025,  11.99978025,  11.99978025,  11.99978025,\n",
              "        11.99978025,  11.99978025,  11.99978025,  11.99978025,\n",
              "        11.99978025,  11.99978025,  11.99978025,  11.99978025,\n",
              "        11.99978025,  11.99978025,  11.99978025,  11.99978025,\n",
              "        11.99978025,  11.99978025,  11.99978025,  11.99978025,\n",
              "        11.99978025,  11.99978025,  11.99978025,  11.99978025,\n",
              "        11.99978025,  11.99978025,  11.99978025,  11.99978025,\n",
              "        11.99978025,  11.99978025,  11.99978025,  11.99978025,\n",
              "        11.99978025,  11.99978025,  11.99978025,  11.99978025,\n",
              "        11.99978025,  11.99978025,  11.99978025,  11.99978025,\n",
              "        11.99978025,  11.99978025,  11.99978025,  11.99978025,\n",
              "        11.99978025,  11.99978025,  11.99978025,  11.99978025,\n",
              "        11.99978025,  11.99978025,  11.99978025,  11.99978025,\n",
              "        11.99978025,  11.99978025,  11.99978025,  11.99978025,\n",
              "        11.99978025,  11.99978025,  11.99978025,  11.99978025,\n",
              "        11.99978025,  11.99978025,  11.99978025,  11.99978025,\n",
              "        11.99978025,  11.99978025,  11.99978025,  11.99978025,\n",
              "        11.99978025,  11.99978025,  11.99978025,  11.99978025,\n",
              "        11.99978025,  11.99978025,  11.99978025,  11.99978025,\n",
              "        11.99978025,  11.99978025,  11.99978025,  11.99978025,\n",
              "        11.99978025,  11.99978025,  11.99978025,  11.99978025,\n",
              "        11.99978025,  11.99978025,  11.99978025,  11.99978025,\n",
              "        11.99978025,  11.99978025,  11.99978025,  11.99978025,\n",
              "        11.99978025,  11.99978025,  11.99978025,  11.99978025,\n",
              "        11.99978025,  11.99978025,  11.99978025,  11.99978025,\n",
              "        11.99978025,  11.99978025,  11.99978025,  11.99978025,\n",
              "        11.99978025,  11.99978025,  11.99978025,  11.99978025,\n",
              "        11.99978025,  11.99978025,  11.99978025,  11.99978025,\n",
              "        11.99978025,  11.99978025,  11.99978025,  11.99978025,\n",
              "        11.99978025,  11.99978025,  11.99978025,  11.99978025,\n",
              "        11.99978025,  11.99978025,  11.99978025,  11.99978025,\n",
              "        11.99978025,  11.99978025,  11.99978025,  11.99978025,\n",
              "        11.99978025,  11.99978025,  11.99978025,  11.99978025,\n",
              "        11.99978025,  11.99978025,  11.99978025,  11.99978025,\n",
              "        11.99978025,  11.99978025,  11.99978025,  11.99978025,\n",
              "        11.99978025,  11.99978025,  11.99978025,  11.99978025])"
            ]
          },
          "execution_count": 43,
          "metadata": {},
          "output_type": "execute_result"
        }
      ],
      "source": [
        "eigs"
      ]
    },
    {
      "cell_type": "code",
      "execution_count": 41,
      "metadata": {},
      "outputs": [
        {
          "data": {
            "text/plain": [
              "[1.0,\n",
              " 0.9166666666666666,\n",
              " 0.8402777777777777,\n",
              " 0.7702546296296295,\n",
              " 0.7060667438271604,\n",
              " 0.6472278485082303,\n",
              " 0.5932921944658778,\n",
              " 0.543851178260388,\n",
              " 0.4985302467386889,\n",
              " 0.45698605951046484,\n",
              " 0.41890388788459276,\n",
              " 0.38399523056087664,\n",
              " 0.3519956280141369,\n",
              " 0.3226626590129588,\n",
              " 0.29577410409521226,\n",
              " 0.2711262620872779,\n",
              " 0.24853240691333806,\n",
              " 0.2278213730038932,\n",
              " 0.2088362585869021,\n",
              " 0.1914332370379936,\n",
              " 0.17548046728482744,\n",
              " 0.16085709501109183,\n",
              " 0.14745233709350083,\n",
              " 0.13516464233570907,\n",
              " 0.12390092214106666,\n",
              " 0.11357584529597776,\n",
              " 0.10411119152131294,\n",
              " 0.09543525889453687,\n",
              " 0.08748232065332545,\n",
              " 0.08019212726554834,\n",
              " 0.0735094499934193,\n",
              " 0.06738366249396768,\n",
              " 0.06176835728613705,\n",
              " 0.05662099417895895,\n",
              " 0.05190257799737904,\n",
              " 0.04757736316426412,\n",
              " 0.04361258290057544,\n",
              " 0.03997820099219415,\n",
              " 0.03664668424284464,\n",
              " 0.03359279388927425,\n",
              " 0.030793394398501393,\n",
              " 0.028227278198626277,\n",
              " 0.02587500501540742,\n",
              " 0.0237187545974568,\n",
              " 0.0217421917143354,\n",
              " 0.019930342404807448,\n",
              " 0.01826948053774016,\n",
              " 0.016747023826261812,\n",
              " 0.015351438507406662,\n",
              " 0.014072151965122773,\n",
              " 0.012899472634695874,\n",
              " 0.011824516581804551,\n",
              " 0.010839140199987505,\n",
              " 0.009935878516655212,\n",
              " 0.009107888640267278,\n",
              " 0.008348897920245004,\n",
              " 0.007653156426891254,\n",
              " 0.007015393391316982,\n",
              " 0.0064307772753739,\n",
              " 0.005894879169092741,\n",
              " 0.005403639238335012,\n",
              " 0.004953335968473762,\n",
              " 0.004540557971100948,\n",
              " 0.004162178140175868,\n",
              " 0.0038153299618278796,\n",
              " 0.0034973857983422226,\n",
              " 0.003205936981813704,\n",
              " 0.0029387755666625617,\n",
              " 0.002693877602774015,\n",
              " 0.002469387802542847,\n",
              " 0.0022636054856642763,\n",
              " 0.0020749716951922533,\n",
              " 0.0019020573872595653,\n",
              " 0.0017435526049879347,\n",
              " 0.0015982565545722735,\n",
              " 0.0014650685083579173,\n",
              " 0.0013429794659947575,\n",
              " 0.0012310645104951943,\n",
              " 0.0011284758012872615,\n",
              " 0.0010344361511799897,\n",
              " 0.000948233138581657,\n",
              " 0.0008692137103665189,\n",
              " 0.0007967792345026423,\n",
              " 0.0007303809649607555,\n",
              " 0.0006695158845473592,\n",
              " 0.0006137228941684125,\n",
              " 0.0005625793196543781,\n",
              " 0.0005156977096831799,\n",
              " 0.0004727229005429149,\n",
              " 0.000433329325497672,\n",
              " 0.00039721854837286596,\n",
              " 0.0003641170026751271,\n",
              " 0.0003337739191188665,\n",
              " 0.00030595942585896096,\n",
              " 0.00028046280703738087,\n",
              " 0.00025709090645093246,\n",
              " 0.00023566666424668808,\n",
              " 0.00021602777555946405,\n",
              " 0.0001980254609295087,\n",
              " 0.000181523339185383]"
            ]
          },
          "execution_count": 41,
          "metadata": {},
          "output_type": "execute_result"
        }
      ],
      "source": [
        "[(11/12)**k for k in range(100)]"
      ]
    },
    {
      "cell_type": "markdown",
      "metadata": {},
      "source": [
        "# Test 2"
      ]
    },
    {
      "cell_type": "code",
      "execution_count": 71,
      "metadata": {},
      "outputs": [],
      "source": [
        "n = 10\n",
        "X = np.random.rand(n,n)\n",
        "A = X @ np.diag(np.arange(1,n+1)) @ np.linalg.inv(X)\n",
        "\n",
        "x0 = np.random.rand(10)\n",
        "#x0 = X[:,:-1].sum(axis=1)\n",
        "\n",
        "x, eigs, eigv = power_method(A, x0, 50)"
      ]
    },
    {
      "cell_type": "code",
      "execution_count": 72,
      "metadata": {},
      "outputs": [
        {
          "data": {
            "text/plain": [
              "array([16.33855291, 12.2095466 , 10.62056723,  9.8966536 ,  9.54959081,\n",
              "        9.3881064 ,  9.32410689,  9.31312772,  9.33111489,  9.36440685,\n",
              "        9.40502954,  9.44829962,  9.49150768,  9.53314828,  9.57244986,\n",
              "        9.60908113,  9.64296689,  9.67417346,  9.70283898,  9.72913237,\n",
              "        9.75323012,  9.7753042 ,  9.79551638,  9.81401618,  9.83094083,\n",
              "        9.84641605,  9.86055715,  9.87347022,  9.88525312,  9.8959964 ,\n",
              "        9.90578398,  9.91469375,  9.92279804,  9.93016399,  9.9368539 ,\n",
              "        9.94292551,  9.94843227,  9.95342356,  9.95794495,  9.96203841,\n",
              "        9.96574254,  9.96909279,  9.97212162,  9.97485877,  9.97733141,\n",
              "        9.98078025,  9.99506515,  9.99556293,  9.99601004,  9.99641174])"
            ]
          },
          "execution_count": 72,
          "metadata": {},
          "output_type": "execute_result"
        }
      ],
      "source": [
        "eigs"
      ]
    },
    {
      "cell_type": "markdown",
      "metadata": {},
      "source": [
        "# Test 3"
      ]
    },
    {
      "cell_type": "code",
      "execution_count": 84,
      "metadata": {},
      "outputs": [],
      "source": [
        "n = 10\n",
        "X = np.random.rand(n,n)\n",
        "diag = np.arange(1,n+1)\n",
        "diag[-2] = -10\n",
        "D = np.diag(diag)\n",
        "A = X @ D @ np.linalg.inv(X)\n",
        "\n",
        "x0 = np.random.rand(10)\n",
        "\n",
        "x, eigs, eigv = power_method(A, x0, 10)"
      ]
    },
    {
      "cell_type": "code",
      "execution_count": 85,
      "metadata": {},
      "outputs": [
        {
          "data": {
            "text/plain": [
              "array([74.12553992,  6.76525032, 11.83730861,  6.03977974, 13.34480555,\n",
              "        4.9650088 , 17.03067305,  3.94773188, 22.43704311,  3.70134936])"
            ]
          },
          "execution_count": 85,
          "metadata": {},
          "output_type": "execute_result"
        }
      ],
      "source": [
        "eigs"
      ]
    },
    {
      "cell_type": "code",
      "execution_count": 86,
      "metadata": {},
      "outputs": [
        {
          "data": {
            "text/plain": [
              "[<matplotlib.lines.Line2D at 0x122405d10>,\n",
              " <matplotlib.lines.Line2D at 0x122405f10>,\n",
              " <matplotlib.lines.Line2D at 0x12240d150>,\n",
              " <matplotlib.lines.Line2D at 0x12240d310>,\n",
              " <matplotlib.lines.Line2D at 0x12240d4d0>,\n",
              " <matplotlib.lines.Line2D at 0x12240d690>,\n",
              " <matplotlib.lines.Line2D at 0x12240d8d0>,\n",
              " <matplotlib.lines.Line2D at 0x12240da90>,\n",
              " <matplotlib.lines.Line2D at 0x12240dc50>,\n",
              " <matplotlib.lines.Line2D at 0x12240d6d0>]"
            ]
          },
          "execution_count": 86,
          "metadata": {},
          "output_type": "execute_result"
        },
        {
          "data": {
            "image/png": "[encoded data removed]",
            "text/plain": [
              "<Figure size 432x288 with 1 Axes>"
            ]
          },
          "metadata": {},
          "output_type": "display_data"
        }
      ],
      "source": [
        "plt.plot(eigv.T)"
      ]
    },
    {
      "cell_type": "markdown",
      "metadata": {},
      "source": [
        "# Test 4"
      ]
    },
    {
      "cell_type": "code",
      "execution_count": 92,
      "metadata": {},
      "outputs": [],
      "source": [
        "n = 5\n",
        "A = np.random.rand(n,n)\n",
        "\n",
        "x0 = np.random.rand(5)\n",
        "\n",
        "x, eigs, eigv = power_method(A, x0, 10)"
      ]
    },
    {
      "cell_type": "code",
      "execution_count": 96,
      "metadata": {},
      "outputs": [
        {
          "data": {
            "text/plain": [
              "array([2.05506161, 2.87619385, 2.83449618, 2.85141246, 2.85318249,\n",
              "       2.85250409, 2.85248388, 2.85251414, 2.85251326, 2.85251208])"
            ]
          },
          "execution_count": 96,
          "metadata": {},
          "output_type": "execute_result"
        }
      ],
      "source": [
        "eigs"
      ]
    },
    {
      "cell_type": "code",
      "execution_count": 97,
      "metadata": {},
      "outputs": [
        {
          "data": {
            "text/plain": [
              "array([0.56144714, 1.        , 0.84366798, 0.70490485, 0.86592706])"
            ]
          },
          "execution_count": 97,
          "metadata": {},
          "output_type": "execute_result"
        }
      ],
      "source": [
        "x"
      ]
    },
    {
      "cell_type": "code",
      "execution_count": 95,
      "metadata": {},
      "outputs": [
        {
          "data": {
            "text/plain": [
              "(array([ 2.85251222+0.j        , -0.08635389+0.57135692j,\n",
              "        -0.08635389-0.57135692j, -0.18157314+0.j        ,\n",
              "         0.28230573+0.j        ]),\n",
              " array([[-0.3103046 +0.j        ,  0.66286551+0.j        ,\n",
              "          0.66286551-0.j        ,  0.18438376+0.j        ,\n",
              "         -0.46154895+0.j        ],\n",
              "        [-0.55268706+0.j        , -0.04509647-0.17337419j,\n",
              "         -0.04509647+0.17337419j, -0.27676777+0.j        ,\n",
              "         -0.4554827 +0.j        ],\n",
              "        [-0.46628438+0.j        , -0.15125969+0.43668723j,\n",
              "         -0.15125969-0.43668723j, -0.80268855+0.j        ,\n",
              "          0.06218986+0.j        ],\n",
              "        [-0.38959177+0.j        , -0.48703024+0.10061919j,\n",
              "         -0.48703024-0.10061919j,  0.46630707+0.j        ,\n",
              "          0.14514438+0.j        ],\n",
              "        [-0.47858667+0.j        , -0.10490195-0.23793842j,\n",
              "         -0.10490195+0.23793842j,  0.16628603+0.j        ,\n",
              "          0.74469699+0.j        ]]))"
            ]
          },
          "execution_count": 95,
          "metadata": {},
          "output_type": "execute_result"
        }
      ],
      "source": [
        "np.linalg.eig(A)"
      ]
    },
    {
      "cell_type": "markdown",
      "metadata": {},
      "source": [
        "# Test 5"
      ]
    },
    {
      "cell_type": "code",
      "execution_count": 156,
      "metadata": {},
      "outputs": [],
      "source": [
        "n = 10\n",
        "X = np.random.rand(n,n)\n",
        "diag = np.arange(1,n+1)\n",
        "diag[-2] = 8\n",
        "D = np.diag(diag)\n",
        "A = X @ D @ np.linalg.inv(X)\n",
        "\n",
        "x0 = np.random.rand(10)\n",
        "\n",
        "x, eigs, eigv = power_method(A, x0, 100)"
      ]
    },
    {
      "cell_type": "code",
      "execution_count": 157,
      "metadata": {},
      "outputs": [
        {
          "data": {
            "text/plain": [
              "[<matplotlib.lines.Line2D at 0x1279a0750>]"
            ]
          },
          "execution_count": 157,
          "metadata": {},
          "output_type": "execute_result"
        },
        {
          "data": {
            "image/png": "[encoded data removed]",
            "text/plain": [
              "<Figure size 432x288 with 1 Axes>"
            ]
          },
          "metadata": {},
          "output_type": "display_data"
        }
      ],
      "source": [
        "plt.semilogy(np.abs(eigs-10))"
      ]
    },
    {
      "cell_type": "code",
      "execution_count": 158,
      "metadata": {},
      "outputs": [],
      "source": [
        "n = 10\n",
        "X = np.random.rand(n,n)\n",
        "diag = np.arange(1,n+1)\n",
        "diag[-2] = 9\n",
        "D = np.diag(diag)\n",
        "A = X @ D @ np.linalg.inv(X)\n",
        "\n",
        "x0 = np.random.rand(10)\n",
        "\n",
        "x, eigs, eigv = power_method(A, x0, 100)"
      ]
    },
    {
      "cell_type": "code",
      "execution_count": 159,
      "metadata": {},
      "outputs": [
        {
          "data": {
            "text/plain": [
              "[<matplotlib.lines.Line2D at 0x123449a10>]"
            ]
          },
          "execution_count": 159,
          "metadata": {},
          "output_type": "execute_result"
        },
        {
          "data": {
            "image/png": "[encoded data removed]",
            "text/plain": [
              "<Figure size 432x288 with 1 Axes>"
            ]
          },
          "metadata": {},
          "output_type": "display_data"
        }
      ],
      "source": [
        "plt.semilogy(np.abs(eigs-10))"
      ]
    },
    {
      "cell_type": "markdown",
      "metadata": {},
      "source": [
        "# Test 6\n",
        "\n",
        "Shift!"
      ]
    },
    {
      "cell_type": "code",
      "execution_count": 168,
      "metadata": {},
      "outputs": [],
      "source": [
        "n = 10\n",
        "X = np.random.rand(n,n)\n",
        "diag = np.arange(1,n+1)\n",
        "diag[-2] = 9\n",
        "D = np.diag(diag)\n",
        "A = X @ D @ np.linalg.inv(X)\n",
        "\n",
        "x0 = np.random.rand(10)\n",
        "\n",
        "x, eigs, eigv = power_method(A - 5*np.eye(n), x0, 100)"
      ]
    },
    {
      "cell_type": "code",
      "execution_count": 169,
      "metadata": {},
      "outputs": [
        {
          "data": {
            "text/plain": [
              "[<matplotlib.lines.Line2D at 0x127deec90>]"
            ]
          },
          "execution_count": 169,
          "metadata": {},
          "output_type": "execute_result"
        },
        {
          "data": {
            "image/png": "[encoded data removed]",
            "text/plain": [
              "<Figure size 432x288 with 1 Axes>"
            ]
          },
          "metadata": {},
          "output_type": "display_data"
        }
      ],
      "source": [
        "plt.semilogy(np.abs(eigs-(10-5)))"
      ]
    },
    {
      "cell_type": "code",
      "execution_count": null,
      "metadata": {},
      "outputs": [],
      "source": []
    }
  ],
  "metadata": {
    "kernelspec": {
      "display_name": "Python 3",
      "language": "python",
      "name": "python3"
    },
    "language_info": {
      "codemirror_mode": {
        "name": "ipython",
        "version": 3
      },
      "file_extension": ".py",
      "mimetype": "text/x-python",
      "name": "python",
      "nbconvert_exporter": "python",
      "pygments_lexer": "ipython3",
      "version": "3.7.4"
    }
  },
  "nbformat": 4,
  "nbformat_minor": 2
}