{
  "cells": [
    {
      "cell_type": "code",
      "execution_count": 11,
      "metadata": {},
      "outputs": [],
      "source": [
        "import numpy as np\n",
        "import matplotlib.pyplot as plt\n",
        "import seaborn as sns\n",
        "sns.set_context('talk')"
      ]
    },
    {
      "cell_type": "code",
      "execution_count": 12,
      "metadata": {},
      "outputs": [],
      "source": [
        "A = np.array([[0.8, 0.6, 0.8],\n",
        "              [0.2, 0.3, 0.0],\n",
        "              [0.0, 0.1, 0.2]])"
      ]
    },
    {
      "cell_type": "code",
      "execution_count": 13,
      "metadata": {},
      "outputs": [
        {
          "name": "stdout",
          "output_type": "stream",
          "text": [
            "[0.33204226 0.14902671 0.51893104]\n",
            "1.0\n"
          ]
        }
      ],
      "source": [
        "v = np.random.rand(3)\n",
        "v = v / np.linalg.norm(v,1)\n",
        "print(v)\n",
        "print(v.sum())"
      ]
    },
    {
      "cell_type": "code",
      "execution_count": 25,
      "metadata": {},
      "outputs": [],
      "source": [
        "x = v.copy()\n",
        "\n",
        "n = 10\n",
        "eigs = np.zeros(n)\n",
        "eigv = np.zeros((3,n))\n",
        "\n",
        "for i in range(n):\n",
        "    y = A @ x\n",
        "    normy = np.linalg.norm(y, np.inf)\n",
        "    x = y / normy\n",
        "    eigs[i] = normy\n",
        "    eigv[:,i] = x"
      ]
    },
    {
      "cell_type": "code",
      "execution_count": 26,
      "metadata": {},
      "outputs": [
        {
          "data": {
            "image/png": "[encoded data removed]",
            "text/plain": [
              "<Figure size 432x288 with 1 Axes>"
            ]
          },
          "metadata": {},
          "output_type": "display_data"
        }
      ],
      "source": [
        "plt.plot(eigv.T);"
      ]
    },
    {
      "cell_type": "code",
      "execution_count": 27,
      "metadata": {},
      "outputs": [
        {
          "data": {
            "text/plain": [
              "array([1.        , 0.28571419, 0.03571434])"
            ]
          },
          "execution_count": 27,
          "metadata": {},
          "output_type": "execute_result"
        }
      ],
      "source": [
        "x"
      ]
    },
    {
      "cell_type": "code",
      "execution_count": 28,
      "metadata": {},
      "outputs": [
        {
          "data": {
            "text/plain": [
              "array([0.75675678, 0.21621615, 0.02702707])"
            ]
          },
          "execution_count": 28,
          "metadata": {},
          "output_type": "execute_result"
        }
      ],
      "source": [
        "x / np.linalg.norm(x,1)"
      ]
    },
    {
      "cell_type": "markdown",
      "metadata": {},
      "source": [
        "#  Page Rank"
      ]
    },
    {
      "cell_type": "markdown",
      "metadata": {},
      "source": [
        "A = array([ [0,     0,     0,     1, 0, 1],\n",
        "            [1/2.0, 0,     0,     0, 0, 0],\n",
        "            [0,     1/2.0, 0,     0, 0, 0],\n",
        "            [0,     1/2.0, 1/3.0, 0, 0, 0],\n",
        "            [0,     0,     1/3.0, 0, 0, 0],\n",
        "            [1/2.0, 0,     1/3.0, 0, 1, 0 ] ])"
      ]
    },
    {
      "cell_type": "code",
      "execution_count": 30,
      "metadata": {},
      "outputs": [],
      "source": [
        "A = np.array([ [0,     0,     0,     1, 0, 1],\n",
        "               [1/2.0, 0,     0,     0, 0, 0],\n",
        "               [0,     1/2.0, 0,     0, 0, 0],\n",
        "               [0,     1/2.0, 1/3.0, 0, 0, 0],\n",
        "               [0,     0,     1/3.0, 0, 0, 0],\n",
        "               [1/2.0, 0,     1/3.0, 0, 1, 0]])"
      ]
    },
    {
      "cell_type": "code",
      "execution_count": 103,
      "metadata": {},
      "outputs": [],
      "source": [
        "u = np.ones(6)\n",
        "M = 0.85 * A + 0.15 * (1/6) * np.outer(u,u)"
      ]
    },
    {
      "cell_type": "code",
      "execution_count": 126,
      "metadata": {},
      "outputs": [],
      "source": [
        "x = np.random.rand(6)\n",
        "x = x / np.linalg.norm(x,1)\n",
        "#x = np.ones(6)/6\n",
        "\n",
        "n = 15\n",
        "eigs = np.zeros(n)\n",
        "eigv = np.zeros((6,n))\n",
        "\n",
        "for i in range(n):\n",
        "    y = M @ x\n",
        "    normy = np.linalg.norm(y, np.inf)\n",
        "    x = y / normy\n",
        "    eigs[i] = normy\n",
        "    eigv[:,i] = x / np.linalg.norm(x,1)"
      ]
    },
    {
      "cell_type": "code",
      "execution_count": 127,
      "metadata": {},
      "outputs": [
        {
          "data": {
            "text/plain": [
              "array([0.32955596, 0.16504767, 0.09515745, 0.12211091, 0.05195346,\n",
              "       0.23617456])"
            ]
          },
          "execution_count": 127,
          "metadata": {},
          "output_type": "execute_result"
        }
      ],
      "source": [
        "x / np.linalg.norm(x,1)"
      ]
    },
    {
      "cell_type": "code",
      "execution_count": 128,
      "metadata": {},
      "outputs": [
        {
          "data": {
            "text/plain": [
              "[<matplotlib.lines.Line2D at 0x11a507990>,\n",
              " <matplotlib.lines.Line2D at 0x11a500c50>,\n",
              " <matplotlib.lines.Line2D at 0x11a507d10>,\n",
              " <matplotlib.lines.Line2D at 0x11a507ed0>,\n",
              " <matplotlib.lines.Line2D at 0x11a5880d0>,\n",
              " <matplotlib.lines.Line2D at 0x11a588290>]"
            ]
          },
          "execution_count": 128,
          "metadata": {},
          "output_type": "execute_result"
        },
        {
          "data": {
            "image/png": "[encoded data removed]",
            "text/plain": [
              "<Figure size 432x288 with 1 Axes>"
            ]
          },
          "metadata": {},
          "output_type": "display_data"
        }
      ],
      "source": [
        "plt.plot(eigv.T)"
      ]
    },
    {
      "cell_type": "code",
      "execution_count": 118,
      "metadata": {},
      "outputs": [
        {
          "data": {
            "text/plain": [
              "array([0.49070959, 0.67924235, 0.9449829 , 1.03196934, 1.01848026,\n",
              "       1.00277577, 0.98885635, 1.00442384, 0.999089  , 1.00078532,\n",
              "       0.99947397, 1.00011198, 1.00001406, 0.99999425, 1.00000551,\n",
              "       0.99999036, 1.00000647, 0.99999738, 1.00000113, 0.99999941,\n",
              "       1.00000021, 0.99999997, 0.99999999, 1.00000001, 0.99999999,\n",
              "       1.00000001, 1.        , 1.        , 1.        , 1.        ,\n",
              "       1.        , 1.        , 1.        , 1.        , 1.        ,\n",
              "       1.        , 1.        , 1.        , 1.        , 1.        ,\n",
              "       1.        , 1.        , 1.        , 1.        , 1.        ,\n",
              "       1.        , 1.        , 1.        , 1.        , 1.        ])"
            ]
          },
          "execution_count": 118,
          "metadata": {},
          "output_type": "execute_result"
        }
      ],
      "source": [
        "eigs"
      ]
    },
    {
      "cell_type": "code",
      "execution_count": 107,
      "metadata": {},
      "outputs": [],
      "source": [
        "w, v = np.linalg.eig(M)"
      ]
    },
    {
      "cell_type": "code",
      "execution_count": 108,
      "metadata": {},
      "outputs": [
        {
          "data": {
            "text/plain": [
              "array([ 1.00000000e+00+0.j        , -4.57268206e-01+0.1632828j ,\n",
              "       -4.57268206e-01-0.1632828j ,  3.22682062e-02+0.42833886j,\n",
              "        3.22682062e-02-0.42833886j,  2.16948089e-16+0.j        ])"
            ]
          },
          "execution_count": 108,
          "metadata": {},
          "output_type": "execute_result"
        }
      ],
      "source": [
        "w"
      ]
    },
    {
      "cell_type": "code",
      "execution_count": 109,
      "metadata": {},
      "outputs": [],
      "source": [
        "v = v[:,0]"
      ]
    },
    {
      "cell_type": "code",
      "execution_count": 110,
      "metadata": {},
      "outputs": [],
      "source": [
        "v = -v / np.linalg.norm(v,1)"
      ]
    },
    {
      "cell_type": "code",
      "execution_count": 111,
      "metadata": {},
      "outputs": [
        {
          "data": {
            "text/plain": [
              "array([0.32954577-0.j, 0.16505695-0.j, 0.0951492 -0.j, 0.12210815-0.j,\n",
              "       0.05195894-0.j, 0.23618099-0.j])"
            ]
          },
          "execution_count": 111,
          "metadata": {},
          "output_type": "execute_result"
        }
      ],
      "source": [
        "v"
      ]
    },
    {
      "cell_type": "code",
      "execution_count": null,
      "metadata": {},
      "outputs": [],
      "source": []
    }
  ],
  "metadata": {
    "kernelspec": {
      "display_name": "Python 3",
      "language": "python",
      "name": "python3"
    },
    "language_info": {
      "codemirror_mode": {
        "name": "ipython",
        "version": 3
      },
      "file_extension": ".py",
      "mimetype": "text/x-python",
      "name": "python",
      "nbconvert_exporter": "python",
      "pygments_lexer": "ipython3",
      "version": "3.7.4"
    }
  },
  "nbformat": 4,
  "nbformat_minor": 2
}