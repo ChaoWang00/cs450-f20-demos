{
  "cells": [
    {
      "cell_type": "code",
      "execution_count": 9,
      "metadata": {},
      "outputs": [],
      "source": [
        "import numpy as np\n",
        "import matplotlib.pyplot as plt\n",
        "%matplotlib inline\n",
        "import seaborn as sns\n",
        "sns.set_context('talk')"
      ]
    },
    {
      "cell_type": "code",
      "execution_count": 10,
      "metadata": {},
      "outputs": [
        {
          "name": "stdout",
          "output_type": "stream",
          "text": [
            "[5. 1. 2. 4. 3.]\n",
            "5.000000000000001 5.000000000000001\n",
            "0.9999999999999983 0.9999999999999983\n",
            "1.999999999999996 1.999999999999996\n",
            "3.9999999999999947 3.9999999999999947\n",
            "2.999999999999998 2.999999999999998\n",
            "[[ 0.58 -0.29 -0.57  0.5  -0.03]\n",
            " [-0.23 -0.6   0.49  0.45 -0.37]\n",
            " [ 0.31  0.52  0.14  0.06 -0.78]\n",
            " [-0.6  -0.11 -0.64 -0.13 -0.44]\n",
            " [-0.39  0.52 -0.04  0.72  0.24]]\n"
          ]
        }
      ],
      "source": [
        "np.random.seed(2222)\n",
        "T, _ = np.linalg.qr(np.random.rand(5,5))\n",
        "A = T.T @ np.diag([5,4,3,2,1]) @ T\n",
        "\n",
        "w, v = np.linalg.eig(A)\n",
        "np.set_printoptions(precision=2)\n",
        "print(w)\n",
        "for ww in w:\n",
        "    print(ww, np.abs(ww))\n",
        "print(v)"
      ]
    },
    {
      "cell_type": "code",
      "execution_count": 11,
      "metadata": {},
      "outputs": [
        {
          "name": "stdout",
          "output_type": "stream",
          "text": [
            "[3.6  4.02 4.14]\n",
            "[4.   4.74 3.71]\n",
            "[4.3  4.75 3.5 ]\n",
            "[4.52 4.63 3.37]\n",
            "[4.67 4.5  3.25]\n",
            "[4.78 4.38 3.16]\n",
            "[4.85 4.27 3.1 ]\n",
            "[4.9  4.19 3.06]\n",
            "[4.94 4.13 3.03]\n",
            "[4.96 4.09 3.02]\n",
            "[4.97 4.06 3.01]\n",
            "[4.98 4.04 3.01]\n",
            "[4.99 4.03 3.  ]\n",
            "[4.99 4.02 3.  ]\n",
            "[5.   4.01 3.  ]\n",
            "[5.   4.01 3.  ]\n",
            "[5. 4. 3.]\n",
            "[5. 4. 3.]\n",
            "[5. 4. 3.]\n",
            "[5. 4. 3.]\n",
            "[5. 4. 3.]\n",
            "[5. 4. 3.]\n",
            "[5. 4. 3.]\n",
            "[5. 4. 3.]\n",
            "[5. 4. 3.]\n",
            "[5. 4. 3.]\n",
            "[5. 4. 3.]\n",
            "[5. 4. 3.]\n",
            "[5. 4. 3.]\n",
            "[5. 4. 3.]\n",
            "[5. 4. 3.]\n",
            "[5. 4. 3.]\n",
            "[5. 4. 3.]\n",
            "[5. 4. 3.]\n",
            "[5. 4. 3.]\n",
            "[5. 4. 3.]\n",
            "[5. 4. 3.]\n",
            "[5. 4. 3.]\n",
            "[5. 4. 3.]\n",
            "[5. 4. 3.]\n",
            "[5. 4. 3.]\n",
            "[5. 4. 3.]\n",
            "[5. 4. 3.]\n",
            "[5. 4. 3.]\n",
            "[5. 4. 3.]\n",
            "[5. 4. 3.]\n",
            "[5. 4. 3.]\n",
            "[5. 4. 3.]\n",
            "[5. 4. 3.]\n",
            "[5. 4. 3.]\n"
          ]
        }
      ],
      "source": [
        "X = np.random.rand(5,3)\n",
        "for i in range(50):\n",
        "    Q, R = np.linalg.qr(X, mode='reduced')\n",
        "    X = A @ Q\n",
        "    \n",
        "    print(np.diag(X.conj().T @ (A @ X)) / np.diag(X.conj().T @ X))"
      ]
    },
    {
      "cell_type": "markdown",
      "metadata": {},
      "source": [
        "# QR"
      ]
    },
    {
      "cell_type": "code",
      "execution_count": 12,
      "metadata": {},
      "outputs": [
        {
          "name": "stdout",
          "output_type": "stream",
          "text": [
            "[4.4  3.58 3.08 2.52 1.43]\n",
            "[4.71 4.   3.12 2.14 1.03]\n",
            "[4.83 4.07 3.06 2.04 1.  ]\n",
            "[4.89 4.07 3.03 2.02 1.  ]\n",
            "[4.93 4.05 3.02 2.01 1.  ]\n",
            "[4.95 4.04 3.01 2.   1.  ]\n",
            "[4.97 4.03 3.01 2.   1.  ]\n",
            "[4.98 4.02 3.   2.   1.  ]\n",
            "[4.99 4.01 3.   2.   1.  ]\n",
            "[4.99 4.01 3.   2.   1.  ]\n"
          ]
        }
      ],
      "source": [
        "X = A.copy()\n",
        "Qall = np.eye(5)\n",
        "for i in range(10):\n",
        "    Q, R = np.linalg.qr(X)\n",
        "    X = R @ Q\n",
        "    \n",
        "    np.set_printoptions(precision=2)\n",
        "    print(np.diag(X))\n",
        "    \n",
        "    #Qall = Qall @ Q\n",
        "    #print(Qall)"
      ]
    },
    {
      "cell_type": "code",
      "execution_count": 13,
      "metadata": {},
      "outputs": [],
      "source": [
        "from matplotlib.colors import LogNorm"
      ]
    },
    {
      "cell_type": "code",
      "execution_count": 78,
      "metadata": {},
      "outputs": [
        {
          "data": {
            "text/plain": [
              "<matplotlib.colorbar.Colorbar at 0x1244aec90>"
            ]
          },
          "execution_count": 78,
          "metadata": {},
          "output_type": "execute_result"
        },
        {
          "data": {
            "image/png": "[encoded data removed]",
            "text/plain": [
              "<Figure size 864x432 with 11 Axes>"
            ]
          },
          "metadata": {},
          "output_type": "display_data"
        }
      ],
      "source": [
        "np.random.seed(12112019)\n",
        "niter = 400\n",
        "nprint = 5\n",
        "niterprint = np.floor(niter / nprint)\n",
        "\n",
        "A = np.random.rand(10,10)\n",
        "A = A + 1j * np.random.rand(10,10)\n",
        "A = A + A.T\n",
        "X = A.copy()\n",
        "\n",
        "ct = 0\n",
        "f, ax = plt.subplots(2,nprint,sharey=True,figsize=(12,6))\n",
        "for i in range(niter):\n",
        "    Q, R = np.linalg.qr(X)\n",
        "    X = R @ Q\n",
        "    \n",
        "    if i % niterprint == 0:\n",
        "        \n",
        "        I, J = np.where(np.abs(X) < 1e-13)\n",
        "        Xtmp = X.copy()\n",
        "        Xtmp[I,J] = 0.0\n",
        "        \n",
        "        im = ax[0,ct].imshow(np.abs(Xtmp.real), cmap=plt.cm.winter, norm=LogNorm())\n",
        "        ax[0,ct].axis('off')\n",
        "        \n",
        "        if np.abs(Xtmp.imag).max() > 1e-13:\n",
        "            im = ax[1,ct].imshow(np.abs(Xtmp.imag), cmap=plt.cm.winter, norm=LogNorm())\n",
        "        ax[1,ct].axis('off')\n",
        "        ct += 1\n",
        "        \n",
        "f.colorbar(im, ax=ax.ravel().tolist(), shrink=0.95)"
      ]
    },
    {
      "cell_type": "code",
      "execution_count": 79,
      "metadata": {},
      "outputs": [
        {
          "data": {
            "text/plain": [
              "array([[10.19+9.68j, -0.06-0.23j,  0.05-0.25j, -0.19+0.15j,  0.42-0.95j,\n",
              "         0.49-0.38j,  0.73-0.12j,  0.55+0.39j, -0.72+0.41j, -0.04+0.46j],\n",
              "       [ 0.  +0.j  , -1.05+1.83j,  0.56+0.27j, -0.3 +0.78j,  0.43-0.27j,\n",
              "         0.01-0.05j, -0.04+0.27j, -0.19+0.36j,  0.46+0.03j,  0.12-0.15j],\n",
              "       [ 0.  +0.j  ,  0.  +0.j  ,  1.39+1.29j,  0.77+0.59j, -0.16+0.24j,\n",
              "         0.1 -0.2j , -0.24+0.28j,  0.48-0.45j, -0.28-0.02j, -0.31+0.25j],\n",
              "       [ 0.  +0.j  ,  0.  +0.j  ,  0.  +0.j  , -1.57-0.56j,  1.43-0.16j,\n",
              "         0.1 +0.14j,  0.06-0.21j,  1.44-0.17j,  0.32+0.35j,  0.32+0.75j],\n",
              "       [ 0.  +0.j  ,  0.  +0.j  ,  0.  +0.j  ,  0.  +0.j  ,  0.19-1.43j,\n",
              "        -0.04+0.78j, -0.16-0.02j, -0.8 -0.02j, -0.47+0.16j, -0.44-0.22j],\n",
              "       [ 0.  +0.j  ,  0.  +0.j  ,  0.  +0.j  ,  0.  +0.j  ,  0.  +0.j  ,\n",
              "        -1.1 +0.66j, -0.04+0.16j,  0.52-0.07j, -0.16-0.21j,  0.24+0.23j],\n",
              "       [ 0.  +0.j  ,  0.  +0.j  ,  0.  +0.j  ,  0.  +0.j  ,  0.  +0.j  ,\n",
              "         0.  +0.j  ,  0.85-0.77j,  0.4 -0.29j, -0.09+0.83j, -0.21-0.09j],\n",
              "       [ 0.  +0.j  ,  0.  +0.j  ,  0.  +0.j  ,  0.  +0.j  ,  0.  +0.j  ,\n",
              "         0.  +0.j  ,  0.  +0.j  ,  0.52+0.84j,  0.48+0.76j, -0.33+0.52j],\n",
              "       [ 0.  +0.j  ,  0.  +0.j  ,  0.  +0.j  ,  0.  +0.j  ,  0.  +0.j  ,\n",
              "         0.  +0.j  ,  0.  +0.j  ,  0.  +0.j  , -0.07-0.87j, -0.86-0.07j],\n",
              "       [ 0.  +0.j  ,  0.  +0.j  ,  0.  +0.j  ,  0.  +0.j  ,  0.  +0.j  ,\n",
              "         0.  +0.j  ,  0.  +0.j  ,  0.  +0.j  ,  0.  +0.j  ,  0.07+0.01j]])"
            ]
          },
          "execution_count": 79,
          "metadata": {},
          "output_type": "execute_result"
        }
      ],
      "source": [
        "Xtmp"
      ]
    },
    {
      "cell_type": "code",
      "execution_count": null,
      "metadata": {},
      "outputs": [],
      "source": []
    }
  ],
  "metadata": {
    "kernelspec": {
      "display_name": "Python 3",
      "language": "python",
      "name": "python3"
    },
    "language_info": {
      "codemirror_mode": {
        "name": "ipython",
        "version": 3
      },
      "file_extension": ".py",
      "mimetype": "text/x-python",
      "name": "python",
      "nbconvert_exporter": "python",
      "pygments_lexer": "ipython3",
      "version": "3.7.5"
    }
  },
  "nbformat": 4,
  "nbformat_minor": 2
}