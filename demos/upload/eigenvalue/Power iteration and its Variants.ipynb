{
  "cells": [
    {
      "cell_type": "markdown",
      "metadata": {},
      "source": [
        "# Power Iteration and its Variants"
      ]
    },
    {
      "cell_type": "code",
      "execution_count": 1,
      "metadata": {},
      "outputs": [],
      "source": [
        "import numpy as np\n",
        "import numpy.linalg as la\n",
        "np.set_printoptions(precision=3)"
      ]
    },
    {
      "cell_type": "markdown",
      "metadata": {},
      "source": [
        "Let's  prepare a matrix with some random or deliberately chosen eigenvalues:"
      ]
    },
    {
      "cell_type": "code",
      "execution_count": 2,
      "metadata": {},
      "outputs": [
        {
          "name": "stdout",
          "output_type": "stream",
          "text": [
            "[-2.668 -0.958 -0.33  -0.292 -0.186 -0.144]\n"
          ]
        }
      ],
      "source": [
        "n = 6\n",
        "\n",
        "if 1:\n",
        "    np.random.seed(70)\n",
        "    eigvecs = np.random.randn(n, n)\n",
        "    eigvals = np.sort(np.random.randn(n))\n",
        "    # Uncomment for near-duplicate largest-magnitude eigenvalue\n",
        "    # eigvals[1] = eigvals[0] + 1e-3\n",
        "\n",
        "    A = eigvecs.dot(np.diag(eigvals)).dot(la.inv(eigvecs))\n",
        "    print(eigvals)\n",
        "    \n",
        "else:\n",
        "    # Complex eigenvalues\n",
        "    np.random.seed(40)\n",
        "    A = np.random.randn(n, n)\n",
        "    print(la.eig(A)[0])"
      ]
    },
    {
      "cell_type": "markdown",
      "metadata": {},
      "source": [
        "Let's also pick an initial vector:"
      ]
    },
    {
      "cell_type": "code",
      "execution_count": 3,
      "metadata": {},
      "outputs": [
        {
          "data": {
            "text/plain": [
              "array([ 2.269,  0.664,  0.899, -0.366,  0.463,  0.08 ])"
            ]
          },
          "execution_count": 3,
          "metadata": {},
          "output_type": "execute_result"
        }
      ],
      "source": [
        "x0 = np.random.randn(n)\n",
        "x0"
      ]
    },
    {
      "cell_type": "markdown",
      "metadata": {},
      "source": [
        "### Power iteration"
      ]
    },
    {
      "cell_type": "code",
      "execution_count": 4,
      "metadata": {},
      "outputs": [],
      "source": [
        "x = x0"
      ]
    },
    {
      "cell_type": "markdown",
      "metadata": {},
      "source": [
        "Now implement plain power iteration."
      ]
    },
    {
      "cell_type": "code",
      "execution_count": 5,
      "metadata": {},
      "outputs": [
        {
          "name": "stdout",
          "output_type": "stream",
          "text": [
            "[-7.705 22.151  2.865 -4.648  4.043 11.651]\n",
            "[ 19.254 -66.76  -10.275  13.745 -12.354 -31.851]\n",
            "[-50.872 180.931  28.982 -38.003  32.878  84.804]\n",
            "[ 135.725 -484.052  -78.458  103.027  -87.053 -226.183]\n",
            "[-362.275 1292.214  210.269 -276.615  231.404  603.437]\n",
            "[  966.69  -3447.945  -561.808   739.696  -616.452 -1609.861]\n",
            "[-2579.07   9198.61   1499.54  -1974.989  1643.638  4294.662]\n",
            "[  6880.334 -24539.336  -4001.041   5270.259  -4383.84  -11456.774]\n",
            "[-18354.595  65463.009  10674.137 -14060.82   11693.775  30562.786]\n",
            "[  48963.909 -174633.058  -28475.596   37510.904  -31194.161  -81530.956]\n",
            "[-130618.864  465860.62    75963.646 -100067.48    83214.419  217496.239]\n",
            "[  348445.777 -1242754.094  -202645.16    266946.529  -221986.341\n",
            "  -580204.159]\n",
            "[-929531.949 3315234.721  540587.199 -712121.531  592181.424 1547782.299]\n",
            "[ 2479667.045 -8843889.704 -1442098.59   1899693.011 -1579732.736\n",
            " -4128943.082]\n",
            "[-6614886.466 23592411.656  3847016.323 -5067719.196  4214175.002\n",
            " 11014579.211]\n",
            "[ 17646208.664 -62936320.902 -10262497.484  13518907.353 -11241947.561\n",
            " -29383053.282]\n",
            "[-4.707e+07  1.679e+08  2.738e+07 -3.606e+07  2.999e+07  7.838e+07]\n",
            "[ 1.256e+08 -4.479e+08 -7.303e+07  9.621e+07 -8.000e+07 -2.091e+08]\n",
            "[-3.350e+08  1.195e+09  1.948e+08 -2.566e+08  2.134e+08  5.578e+08]\n",
            "[ 8.936e+08 -3.187e+09 -5.197e+08  6.846e+08 -5.693e+08 -1.488e+09]\n"
          ]
        }
      ],
      "source": [
        "for i in range(20):\n",
        "    x = A @ x\n",
        "    print(x)"
      ]
    },
    {
      "cell_type": "markdown",
      "metadata": {},
      "source": [
        "* What's the problem with this method?\n",
        "* Does anything useful come of this?\n",
        "* How do we fix it?"
      ]
    },
    {
      "cell_type": "markdown",
      "metadata": {},
      "source": [
        "### Normalized power iteration"
      ]
    },
    {
      "cell_type": "markdown",
      "metadata": {},
      "source": [
        "Back to the beginning: Reset to the initial vector."
      ]
    },
    {
      "cell_type": "code",
      "execution_count": 6,
      "metadata": {},
      "outputs": [],
      "source": [
        "x = x0/la.norm(x0)"
      ]
    },
    {
      "cell_type": "markdown",
      "metadata": {},
      "source": [
        "Implement normalized power iteration."
      ]
    },
    {
      "cell_type": "code",
      "execution_count": 7,
      "metadata": {},
      "outputs": [
        {
          "name": "stdout",
          "output_type": "stream",
          "text": [
            "[-0.285  0.819  0.106 -0.172  0.149  0.431]\n",
            "[ 0.243 -0.842 -0.13   0.173 -0.156 -0.402]\n",
            "[-0.238  0.845  0.135 -0.177  0.153  0.396]\n",
            "[ 0.237 -0.845 -0.137  0.18  -0.152 -0.395]\n",
            "[-0.237  0.845  0.137 -0.181  0.151  0.395]\n",
            "[ 0.237 -0.845 -0.138  0.181 -0.151 -0.394]\n",
            "[-0.237  0.845  0.138 -0.181  0.151  0.394]\n",
            "[ 0.237 -0.845 -0.138  0.181 -0.151 -0.394]\n",
            "[-0.237  0.845  0.138 -0.181  0.151  0.394]\n",
            "[ 0.237 -0.845 -0.138  0.181 -0.151 -0.394]\n",
            "2.667662268743778\n"
          ]
        }
      ],
      "source": [
        "for i in range(10):\n",
        "    x = A @ x\n",
        "    nrm = la.norm(x)\n",
        "    x = x/nrm\n",
        "    print(x)\n",
        "\n",
        "print(nrm)"
      ]
    },
    {
      "cell_type": "markdown",
      "metadata": {},
      "source": [
        "* What do you observe about the norm?\n",
        "* What about the sign?\n",
        "* What is the vector $x$ now?\n",
        "\n",
        "Extensions:\n",
        "\n",
        "* Now try the matrix variants above.\n",
        "* Suggest a better way of estimating the eigenvalue. [Hint](https://en.wikipedia.org/wiki/Rayleigh_quotient)"
      ]
    },
    {
      "cell_type": "markdown",
      "metadata": {},
      "source": [
        "------\n",
        "### Inverse iteration\n",
        "\n",
        "What if we want the smallest eigenvalue (by magnitude)?\n",
        "\n",
        "Once again, reset to the beginning."
      ]
    },
    {
      "cell_type": "code",
      "execution_count": 8,
      "metadata": {},
      "outputs": [],
      "source": [
        "x = x0/la.norm(x0)"
      ]
    },
    {
      "cell_type": "code",
      "execution_count": 9,
      "metadata": {},
      "outputs": [
        {
          "name": "stdout",
          "output_type": "stream",
          "text": [
            "[ 0.344 -0.55  -0.094  0.23  -0.05  -0.718]\n",
            "[-0.527  0.236  0.046 -0.123 -0.066  0.803]\n",
            "[ 0.599 -0.01  -0.037 -0.031  0.127 -0.789]\n",
            "[-0.617 -0.128  0.043  0.173 -0.153  0.74 ]\n",
            "[ 0.611  0.213 -0.052 -0.284  0.161 -0.687]\n",
            "[-0.597 -0.265  0.061  0.365 -0.161  0.64 ]\n",
            "[ 0.583  0.299 -0.067 -0.424  0.16  -0.601]\n",
            "[-0.57  -0.322  0.072  0.465 -0.157  0.571]\n",
            "[ 0.558  0.337 -0.076 -0.496  0.155 -0.547]\n",
            "[-0.55  -0.348  0.078  0.517 -0.153  0.529]\n",
            "[ 0.543  0.356 -0.08  -0.533  0.151 -0.515]\n",
            "[-0.537 -0.362  0.082  0.545 -0.15   0.504]\n",
            "[ 0.533  0.366 -0.083 -0.554  0.149 -0.496]\n",
            "[-0.529 -0.369  0.084  0.561 -0.148  0.49 ]\n",
            "[ 0.527  0.371 -0.084 -0.566  0.147 -0.485]\n",
            "[-0.525 -0.373  0.085  0.57  -0.147  0.481]\n",
            "[ 0.523  0.375 -0.085 -0.573  0.146 -0.478]\n",
            "[-0.522 -0.376  0.086  0.575 -0.146  0.476]\n",
            "[ 0.521  0.376 -0.086 -0.577  0.146 -0.474]\n",
            "[-0.521 -0.377  0.086  0.578 -0.146  0.473]\n",
            "[ 0.52   0.377 -0.086 -0.579  0.146 -0.472]\n",
            "[-0.52  -0.378  0.086  0.58  -0.145  0.471]\n",
            "[ 0.519  0.378 -0.086 -0.581  0.145 -0.471]\n",
            "[-0.519 -0.378  0.086  0.581 -0.145  0.47 ]\n",
            "[ 0.519  0.379 -0.086 -0.582  0.145 -0.47 ]\n",
            "[-0.519 -0.379  0.086  0.582 -0.145  0.47 ]\n",
            "[ 0.519  0.379 -0.086 -0.582  0.145 -0.469]\n",
            "[-0.518 -0.379  0.086  0.582 -0.145  0.469]\n",
            "[ 0.518  0.379 -0.086 -0.582  0.145 -0.469]\n",
            "[-0.518 -0.379  0.086  0.583 -0.145  0.469]\n"
          ]
        }
      ],
      "source": [
        "for i in range(30):\n",
        "    x = la.solve(A, x)\n",
        "    nrm = la.norm(x)\n",
        "    x = x/nrm\n",
        "    print(x)"
      ]
    },
    {
      "cell_type": "markdown",
      "metadata": {},
      "source": [
        "* What's the computational cost per iteration?\n",
        "* Can we make this method search for a specific eigenvalue?"
      ]
    },
    {
      "cell_type": "markdown",
      "metadata": {},
      "source": [
        "------\n",
        "### Inverse Shift iteration\n",
        "\n",
        "What if we want the eigenvalue closest to a give value $\\sigma$?\n",
        "\n",
        "Once again, reset to the beginning."
      ]
    },
    {
      "cell_type": "code",
      "execution_count": 10,
      "metadata": {},
      "outputs": [],
      "source": [
        "x = x0/la.norm(x0)"
      ]
    },
    {
      "cell_type": "code",
      "execution_count": 11,
      "metadata": {},
      "outputs": [
        {
          "name": "stdout",
          "output_type": "stream",
          "text": [
            "[ 0.011 -0.809 -0.191  0.223 -0.186 -0.474]\n",
            "[-0.127  0.775  0.149 -0.232  0.16   0.531]\n",
            "[ 0.192 -0.728 -0.123  0.246 -0.135 -0.582]\n",
            "[-0.246  0.674  0.103 -0.261  0.108  0.628]\n",
            "[ 0.295 -0.616 -0.085  0.271 -0.08  -0.669]\n",
            "[-0.338  0.556  0.07  -0.277  0.052  0.702]\n",
            "[ 0.376 -0.497 -0.057  0.277 -0.026 -0.728]\n",
            "[-0.41   0.441  0.047 -0.273  0.002  0.749]\n",
            "[ 0.44  -0.387 -0.038  0.264  0.019 -0.765]\n",
            "[-0.465  0.338  0.031 -0.252 -0.039  0.777]\n",
            "[ 0.488 -0.291 -0.026  0.237  0.056 -0.786]\n",
            "[-0.508  0.249  0.022 -0.219 -0.071  0.792]\n",
            "[ 0.525 -0.209 -0.019  0.199  0.084 -0.796]\n",
            "[-0.54   0.172  0.017 -0.178 -0.095  0.798]\n",
            "[ 0.553 -0.138 -0.016  0.155  0.105 -0.799]\n",
            "[-0.565  0.107  0.016 -0.132 -0.114  0.799]\n",
            "[ 0.575 -0.078 -0.016  0.108  0.122 -0.798]\n",
            "[-0.584  0.05   0.016 -0.084 -0.129  0.796]\n",
            "[ 0.591 -0.025 -0.017  0.06   0.135 -0.792]\n",
            "[-0.597  0.001  0.018 -0.035 -0.14   0.789]\n",
            "[ 0.603  0.021 -0.02   0.011  0.144 -0.784]\n",
            "[-0.607 -0.041  0.022  0.013 -0.148  0.779]\n",
            "[ 0.611  0.061 -0.024 -0.036  0.151 -0.774]\n",
            "[-0.614 -0.079  0.025  0.059 -0.154  0.768]\n",
            "[ 0.616  0.096 -0.027 -0.082  0.156 -0.761]\n",
            "[-0.618 -0.112  0.03   0.103 -0.158  0.755]\n",
            "[ 0.619  0.126 -0.032 -0.124  0.16  -0.748]\n",
            "[-0.619 -0.14   0.034  0.145 -0.161  0.741]\n",
            "[ 0.619  0.154 -0.036 -0.164  0.162 -0.734]\n",
            "[-0.619 -0.166  0.038  0.183 -0.163  0.726]\n"
          ]
        }
      ],
      "source": [
        "sigma = 1\n",
        "A_sigma = A-sigma*np.eye(A.shape[0])\n",
        "for i in range(30):\n",
        "    x = la.solve(A_sigma, x)\n",
        "    nrm = la.norm(x)\n",
        "    x = x/nrm\n",
        "    print(x)"
      ]
    },
    {
      "cell_type": "markdown",
      "metadata": {},
      "source": [
        "--------------\n",
        "### Rayleigh quotient iteration\n",
        "\n",
        "Can we feed an estimate of the current approximate eigenvalue back into the calculation? (Hint: Rayleigh quotient)\n",
        "\n",
        "Reset once more."
      ]
    },
    {
      "cell_type": "code",
      "execution_count": 12,
      "metadata": {},
      "outputs": [],
      "source": [
        "x = x0/la.norm(x0)"
      ]
    },
    {
      "cell_type": "markdown",
      "metadata": {},
      "source": [
        "Run this cell in-place (Ctrl-Enter) many times."
      ]
    },
    {
      "cell_type": "code",
      "execution_count": 13,
      "metadata": {},
      "outputs": [
        {
          "name": "stdout",
          "output_type": "stream",
          "text": [
            "[ 0.063 -0.792 -0.173  0.23  -0.173 -0.505]\n",
            "[-0.191  0.726  0.126 -0.248  0.133  0.585]\n",
            "[ 0.521 -0.254 -0.051  0.121  0.058 -0.802]\n",
            "[-0.544 -0.35   0.081  0.533 -0.15   0.519]\n",
            "[ 0.52   0.378 -0.086 -0.58   0.146 -0.472]\n",
            "[-0.518 -0.379  0.086  0.583 -0.145  0.469]\n",
            "[ 0.518  0.379 -0.086 -0.583  0.145 -0.469]\n",
            "[-0.518 -0.379  0.086  0.583 -0.145  0.469]\n",
            "[-0.518 -0.379  0.086  0.583 -0.145  0.469]\n",
            "[ 0.518  0.379 -0.086 -0.583  0.145 -0.469]\n"
          ]
        }
      ],
      "source": [
        "for i in range(10):\n",
        "    sigma = np.dot(x, np.dot(A, x))/np.dot(x, x)\n",
        "    x = la.solve(A-sigma*np.eye(n), x)\n",
        "    x = x/la.norm(x)\n",
        "    print(x)"
      ]
    },
    {
      "cell_type": "markdown",
      "metadata": {},
      "source": [
        "* What's a reasonable stopping criterion?\n",
        "* Computational downside of this iteration?"
      ]
    }
  ],
  "metadata": {
    "kernelspec": {
      "display_name": "Python 3",
      "language": "python",
      "name": "python3"
    },
    "language_info": {
      "codemirror_mode": {
        "name": "ipython",
        "version": 3
      },
      "file_extension": ".py",
      "mimetype": "text/x-python",
      "name": "python",
      "nbconvert_exporter": "python",
      "pygments_lexer": "ipython3",
      "version": "3.7.4"
    }
  },
  "nbformat": 4,
  "nbformat_minor": 1
}